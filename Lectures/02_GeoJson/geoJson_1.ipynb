{
 "cells": [
  {
   "cell_type": "code",
   "execution_count": 9,
   "metadata": {},
   "outputs": [],
   "source": [
    "import json\n",
    "from rich import print"
   ]
  },
  {
   "cell_type": "markdown",
   "metadata": {},
   "source": [
    "## GeoJson\n",
    "\n",
    "GeoJson objects store geographic objects in collections. For this notebook, I'm going to concentrate on what's called a `FeatureCollection`. A `FeatureCollection` is a list of geometric shapes (Point, LineString, Polygon, MultiPoint, MultiLineString, and MultiPolygon) which describe spatial objects on our planets surface. These could be anything from a city, to a road connecting cities, or an area of forest that is under a fire watch. As simple as geoJson is to look at and understand, it is complex enough to describe nearly any spatial feature necessary to overlay on a maps surface. It does not go nearly into the detail contained in a shape file or even a topoJson file both of which contain topographical information, which I'm not sure we will utilize in this course.  GeoJson is a nice super set of JSON giving us an easily readable, spatial, cross platform, data format to visualize the output from the spatial data structures we will be studying.\n",
    "\n",
    "The geoJson specification can be found here: https://geojson.org/. As I said, we will be utilizing a subset of it's capabilities to visualize output from our dealings with spatial data structures. Specifically, `FeatureCollection`'s. So, let's start by building the necessary python dictionary to represent a feature collection, to then be converted to a correctly structured geoJson file."
   ]
  },
  {
   "cell_type": "code",
   "execution_count": 21,
   "metadata": {},
   "outputs": [],
   "source": [
    "# Bare bones geojson object: \n",
    "\n",
    "FeatureCollection = {\n",
    "  \"type\": \"FeatureCollection\",\n",
    "  \"features\": []\n",
    "}"
   ]
  },
  {
   "cell_type": "markdown",
   "metadata": {},
   "source": [
    "The object above has a \"type\" of \"FeatureCollection\" and more importantly a key called \"features\" that points to an empty list. This list is where we can push correctly formatted features (Points, LineString's, etc.). For example let's take the city object below. It contains a latitude and longitude, so we can definitely turn that into a `geoJson` `Point`. "
   ]
  },
  {
   "cell_type": "code",
   "execution_count": 12,
   "metadata": {},
   "outputs": [],
   "source": [
    "city = {\n",
    "    \"city\": \"Panama City\",\n",
    "    \"growth\": 0.1,\n",
    "    \"latitude\": 30.1588129,\n",
    "    \"longitude\": -85.6602058,\n",
    "    \"population\": 36877,\n",
    "    \"state\": \"Florida\"\n",
    "}"
   ]
  },
  {
   "cell_type": "markdown",
   "metadata": {},
   "source": [
    "\n",
    "Let's create a function that pulls proper data into the `geometry` of the feature, and the rest into the `properties` object."
   ]
  },
  {
   "cell_type": "code",
   "execution_count": 14,
   "metadata": {},
   "outputs": [
    {
     "data": {
      "text/html": [
       "<pre style=\"white-space:pre;overflow-x:auto;line-height:normal;font-family:Menlo,'DejaVu Sans Mono',consolas,'Courier New',monospace\"><span style=\"font-weight: bold\">{</span>\n",
       "    <span style=\"color: #008000; text-decoration-color: #008000\">'type'</span>: <span style=\"color: #008000; text-decoration-color: #008000\">'Feature'</span>,\n",
       "    <span style=\"color: #008000; text-decoration-color: #008000\">'properties'</span>: <span style=\"font-weight: bold\">{</span>\n",
       "        <span style=\"color: #008000; text-decoration-color: #008000\">'city'</span>: <span style=\"color: #008000; text-decoration-color: #008000\">'Panama City'</span>,\n",
       "        <span style=\"color: #008000; text-decoration-color: #008000\">'growth'</span>: <span style=\"color: #008080; text-decoration-color: #008080; font-weight: bold\">0.1</span>,\n",
       "        <span style=\"color: #008000; text-decoration-color: #008000\">'population'</span>: <span style=\"color: #008080; text-decoration-color: #008080; font-weight: bold\">36877</span>,\n",
       "        <span style=\"color: #008000; text-decoration-color: #008000\">'state'</span>: <span style=\"color: #008000; text-decoration-color: #008000\">'Florida'</span>\n",
       "    <span style=\"font-weight: bold\">}</span>,\n",
       "    <span style=\"color: #008000; text-decoration-color: #008000\">'geometry'</span>: <span style=\"font-weight: bold\">{</span><span style=\"color: #008000; text-decoration-color: #008000\">'type'</span>: <span style=\"color: #008000; text-decoration-color: #008000\">'Point'</span>, <span style=\"color: #008000; text-decoration-color: #008000\">'coordinates'</span>: <span style=\"font-weight: bold\">[</span><span style=\"color: #008080; text-decoration-color: #008080; font-weight: bold\">-85.6602058</span>, <span style=\"color: #008080; text-decoration-color: #008080; font-weight: bold\">30.1588129</span><span style=\"font-weight: bold\">]}</span>\n",
       "<span style=\"font-weight: bold\">}</span>\n",
       "</pre>\n"
      ],
      "text/plain": [
       "\u001b[1m{\u001b[0m\n",
       "    \u001b[32m'type'\u001b[0m: \u001b[32m'Feature'\u001b[0m,\n",
       "    \u001b[32m'properties'\u001b[0m: \u001b[1m{\u001b[0m\n",
       "        \u001b[32m'city'\u001b[0m: \u001b[32m'Panama City'\u001b[0m,\n",
       "        \u001b[32m'growth'\u001b[0m: \u001b[1;36m0.1\u001b[0m,\n",
       "        \u001b[32m'population'\u001b[0m: \u001b[1;36m36877\u001b[0m,\n",
       "        \u001b[32m'state'\u001b[0m: \u001b[32m'Florida'\u001b[0m\n",
       "    \u001b[1m}\u001b[0m,\n",
       "    \u001b[32m'geometry'\u001b[0m: \u001b[1m{\u001b[0m\u001b[32m'type'\u001b[0m: \u001b[32m'Point'\u001b[0m, \u001b[32m'coordinates'\u001b[0m: \u001b[1m[\u001b[0m\u001b[1;36m-85.6602058\u001b[0m, \u001b[1;36m30.1588129\u001b[0m\u001b[1m]\u001b[0m\u001b[1m}\u001b[0m\n",
       "\u001b[1m}\u001b[0m\n"
      ]
     },
     "metadata": {},
     "output_type": "display_data"
    }
   ],
   "source": [
    "def cityToPointFeature(city):\n",
    "    # create an empty feature dictionary\n",
    "    feature = {\n",
    "        \"type\": \"Feature\",\n",
    "        \"properties\": {},\n",
    "        \"geometry\": {\n",
    "            \"type\": \"Point\",\n",
    "            \"coordinates\": [0.0,0.0]\n",
    "        }\n",
    "    }\n",
    "\n",
    "    # loop over our city dictionary\n",
    "    # adding items to correct place\n",
    "    for key,val in city.items():\n",
    "        if 'longitude' in key:\n",
    "            # if longitude in key make it the first item in coordinates\n",
    "            feature[\"geometry\"][\"coordinates\"][0] = val\n",
    "        elif 'latitude' in key:\n",
    "            # likewise, make latitude the second item in coordinates\n",
    "            feature[\"geometry\"][\"coordinates\"][1] = val\n",
    "        else:\n",
    "            # everything else gets put into properties\n",
    "            feature[\"properties\"][key] = val\n",
    "\n",
    "    return feature\n",
    "\n",
    "result = cityToPointFeature(city)\n",
    "\n",
    "print(result)"
   ]
  },
  {
   "cell_type": "markdown",
   "metadata": {},
   "source": [
    "Now we have managed to create a point feature, we should add it to the `FeatureList` "
   ]
  },
  {
   "cell_type": "code",
   "execution_count": 22,
   "metadata": {},
   "outputs": [
    {
     "data": {
      "text/html": [
       "<pre style=\"white-space:pre;overflow-x:auto;line-height:normal;font-family:Menlo,'DejaVu Sans Mono',consolas,'Courier New',monospace\"><span style=\"font-weight: bold\">{</span>\n",
       "    <span style=\"color: #008000; text-decoration-color: #008000\">\"type\"</span>: <span style=\"color: #008000; text-decoration-color: #008000\">\"FeatureCollection\"</span>,\n",
       "    <span style=\"color: #008000; text-decoration-color: #008000\">\"features\"</span>: <span style=\"font-weight: bold\">[</span>\n",
       "        <span style=\"font-weight: bold\">{</span>\n",
       "            <span style=\"color: #008000; text-decoration-color: #008000\">\"type\"</span>: <span style=\"color: #008000; text-decoration-color: #008000\">\"Feature\"</span>,\n",
       "            <span style=\"color: #008000; text-decoration-color: #008000\">\"properties\"</span>: <span style=\"font-weight: bold\">{</span>\n",
       "                <span style=\"color: #008000; text-decoration-color: #008000\">\"city\"</span>: <span style=\"color: #008000; text-decoration-color: #008000\">\"Panama City\"</span>,\n",
       "                <span style=\"color: #008000; text-decoration-color: #008000\">\"growth\"</span>: <span style=\"color: #008080; text-decoration-color: #008080; font-weight: bold\">0.1</span>,\n",
       "                <span style=\"color: #008000; text-decoration-color: #008000\">\"population\"</span>: <span style=\"color: #008080; text-decoration-color: #008080; font-weight: bold\">36877</span>,\n",
       "                <span style=\"color: #008000; text-decoration-color: #008000\">\"state\"</span>: <span style=\"color: #008000; text-decoration-color: #008000\">\"Florida\"</span>\n",
       "            <span style=\"font-weight: bold\">}</span>,\n",
       "            <span style=\"color: #008000; text-decoration-color: #008000\">\"geometry\"</span>: <span style=\"font-weight: bold\">{</span>\n",
       "                <span style=\"color: #008000; text-decoration-color: #008000\">\"type\"</span>: <span style=\"color: #008000; text-decoration-color: #008000\">\"Point\"</span>,\n",
       "                <span style=\"color: #008000; text-decoration-color: #008000\">\"coordinates\"</span>: <span style=\"font-weight: bold\">[</span>\n",
       "                    <span style=\"color: #008080; text-decoration-color: #008080; font-weight: bold\">-85.6602058</span>,\n",
       "                    <span style=\"color: #008080; text-decoration-color: #008080; font-weight: bold\">30.1588129</span>\n",
       "                <span style=\"font-weight: bold\">]</span>\n",
       "            <span style=\"font-weight: bold\">}</span>\n",
       "        <span style=\"font-weight: bold\">}</span>\n",
       "    <span style=\"font-weight: bold\">]</span>\n",
       "<span style=\"font-weight: bold\">}</span>\n",
       "</pre>\n"
      ],
      "text/plain": [
       "\u001b[1m{\u001b[0m\n",
       "    \u001b[32m\"type\"\u001b[0m: \u001b[32m\"FeatureCollection\"\u001b[0m,\n",
       "    \u001b[32m\"features\"\u001b[0m: \u001b[1m[\u001b[0m\n",
       "        \u001b[1m{\u001b[0m\n",
       "            \u001b[32m\"type\"\u001b[0m: \u001b[32m\"Feature\"\u001b[0m,\n",
       "            \u001b[32m\"properties\"\u001b[0m: \u001b[1m{\u001b[0m\n",
       "                \u001b[32m\"city\"\u001b[0m: \u001b[32m\"Panama City\"\u001b[0m,\n",
       "                \u001b[32m\"growth\"\u001b[0m: \u001b[1;36m0.1\u001b[0m,\n",
       "                \u001b[32m\"population\"\u001b[0m: \u001b[1;36m36877\u001b[0m,\n",
       "                \u001b[32m\"state\"\u001b[0m: \u001b[32m\"Florida\"\u001b[0m\n",
       "            \u001b[1m}\u001b[0m,\n",
       "            \u001b[32m\"geometry\"\u001b[0m: \u001b[1m{\u001b[0m\n",
       "                \u001b[32m\"type\"\u001b[0m: \u001b[32m\"Point\"\u001b[0m,\n",
       "                \u001b[32m\"coordinates\"\u001b[0m: \u001b[1m[\u001b[0m\n",
       "                    \u001b[1;36m-85.6602058\u001b[0m,\n",
       "                    \u001b[1;36m30.1588129\u001b[0m\n",
       "                \u001b[1m]\u001b[0m\n",
       "            \u001b[1m}\u001b[0m\n",
       "        \u001b[1m}\u001b[0m\n",
       "    \u001b[1m]\u001b[0m\n",
       "\u001b[1m}\u001b[0m\n"
      ]
     },
     "metadata": {},
     "output_type": "display_data"
    }
   ],
   "source": [
    "FeatureCollection['features'].append(result)\n",
    "\n",
    "print(json.dumps(FeatureCollection,indent=4))"
   ]
  }
 ],
 "metadata": {
  "interpreter": {
   "hash": "31f2aee4e71d21fbe5cf8b01ff0e069b9275f58929596ceb00d14d90e3e16cd6"
  },
  "kernelspec": {
   "display_name": "Python 3.7.3 64-bit",
   "language": "python",
   "name": "python3"
  },
  "language_info": {
   "codemirror_mode": {
    "name": "ipython",
    "version": 3
   },
   "file_extension": ".py",
   "mimetype": "text/x-python",
   "name": "python",
   "nbconvert_exporter": "python",
   "pygments_lexer": "ipython3",
   "version": "3.9.2"
  },
  "orig_nbformat": 4
 },
 "nbformat": 4,
 "nbformat_minor": 2
}
