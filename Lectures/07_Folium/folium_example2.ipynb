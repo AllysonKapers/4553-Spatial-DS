{
 "cells": [
  {
   "cell_type": "code",
   "execution_count": 16,
   "metadata": {},
   "outputs": [],
   "source": [
    "import geopandas\n",
    "import folium\n",
    "import json\n",
    "from rich import print\n",
    "from shapely.geometry import box, Polygon, LineString, Point\n",
    "import sys\n",
    "sys.path.append(\".\")\n",
    "\n",
    "from foo import CountryHelper\n",
    "from foo import SpatialIndexHelper\n"
   ]
  },
  {
   "cell_type": "code",
   "execution_count": 52,
   "metadata": {},
   "outputs": [
    {
     "data": {
      "text/html": [
       "<pre style=\"white-space:pre;overflow-x:auto;line-height:normal;font-family:Menlo,'DejaVu Sans Mono',consolas,'Courier New',monospace\">               id  <span style=\"color: #808000; text-decoration-color: #808000\">...</span>                                           geometry\n",
       "<span style=\"color: #008080; text-decoration-color: #008080; font-weight: bold\">0</span>   pv932yw9333.<span style=\"color: #008080; text-decoration-color: #008080; font-weight: bold\">3</span>  <span style=\"color: #808000; text-decoration-color: #808000\">...</span>  MULTIPOLYGON <span style=\"font-weight: bold\">(((</span><span style=\"color: #008080; text-decoration-color: #008080; font-weight: bold\">19.73805</span> <span style=\"color: #008080; text-decoration-color: #008080; font-weight: bold\">42.68825</span>, <span style=\"color: #008080; text-decoration-color: #008080; font-weight: bold\">19.80161</span> <span style=\"color: #008080; text-decoration-color: #008080; font-weight: bold\">42</span><span style=\"color: #808000; text-decoration-color: #808000\">...</span>\n",
       "<span style=\"color: #008080; text-decoration-color: #008080; font-weight: bold\">1</span>  pv932yw9333.<span style=\"color: #008080; text-decoration-color: #008080; font-weight: bold\">10</span>  <span style=\"color: #808000; text-decoration-color: #808000\">...</span>  MULTIPOLYGON <span style=\"font-weight: bold\">(((</span><span style=\"color: #008080; text-decoration-color: #008080; font-weight: bold\">16.96029</span> <span style=\"color: #008080; text-decoration-color: #008080; font-weight: bold\">48.59698</span>, <span style=\"color: #008080; text-decoration-color: #008080; font-weight: bold\">16.87998</span> <span style=\"color: #008080; text-decoration-color: #008080; font-weight: bold\">48</span><span style=\"color: #808000; text-decoration-color: #808000\">...</span>\n",
       "<span style=\"color: #008080; text-decoration-color: #008080; font-weight: bold\">2</span>  pv932yw9333.<span style=\"color: #008080; text-decoration-color: #008080; font-weight: bold\">13</span>  <span style=\"color: #808000; text-decoration-color: #808000\">...</span>  MULTIPOLYGON <span style=\"font-weight: bold\">(((</span><span style=\"color: #008080; text-decoration-color: #008080; font-weight: bold\">4.97399</span> <span style=\"color: #008080; text-decoration-color: #008080; font-weight: bold\">51.47502</span>, <span style=\"color: #008080; text-decoration-color: #008080; font-weight: bold\">5.60698</span> <span style=\"color: #008080; text-decoration-color: #008080; font-weight: bold\">51.0</span><span style=\"color: #808000; text-decoration-color: #808000\">...</span>\n",
       "<span style=\"color: #008080; text-decoration-color: #008080; font-weight: bold\">3</span>  pv932yw9333.<span style=\"color: #008080; text-decoration-color: #008080; font-weight: bold\">17</span>  <span style=\"color: #808000; text-decoration-color: #808000\">...</span>  MULTIPOLYGON <span style=\"font-weight: bold\">(((</span><span style=\"color: #008080; text-decoration-color: #008080; font-weight: bold\">28.55808</span> <span style=\"color: #008080; text-decoration-color: #008080; font-weight: bold\">43.70746</span>, <span style=\"color: #008080; text-decoration-color: #008080; font-weight: bold\">28.03910</span> <span style=\"color: #008080; text-decoration-color: #008080; font-weight: bold\">43</span><span style=\"color: #808000; text-decoration-color: #808000\">...</span>\n",
       "<span style=\"color: #008080; text-decoration-color: #008080; font-weight: bold\">4</span>  pv932yw9333.<span style=\"color: #008080; text-decoration-color: #008080; font-weight: bold\">19</span>  <span style=\"color: #808000; text-decoration-color: #808000\">...</span>  MULTIPOLYGON <span style=\"font-weight: bold\">(((</span><span style=\"color: #008080; text-decoration-color: #008080; font-weight: bold\">17.00215</span> <span style=\"color: #008080; text-decoration-color: #008080; font-weight: bold\">45.23378</span>, <span style=\"color: #008080; text-decoration-color: #008080; font-weight: bold\">17.86178</span> <span style=\"color: #008080; text-decoration-color: #008080; font-weight: bold\">45</span><span style=\"color: #808000; text-decoration-color: #808000\">...</span>\n",
       "\n",
       "<span style=\"font-weight: bold\">[</span><span style=\"color: #008080; text-decoration-color: #008080; font-weight: bold\">5</span> rows x <span style=\"color: #008080; text-decoration-color: #008080; font-weight: bold\">66</span> columns<span style=\"font-weight: bold\">]</span>\n",
       "</pre>\n"
      ],
      "text/plain": [
       "               id  \u001b[33m...\u001b[0m                                           geometry\n",
       "\u001b[1;36m0\u001b[0m   pv932yw9333.\u001b[1;36m3\u001b[0m  \u001b[33m...\u001b[0m  MULTIPOLYGON \u001b[1m(\u001b[0m\u001b[1m(\u001b[0m\u001b[1m(\u001b[0m\u001b[1;36m19.73805\u001b[0m \u001b[1;36m42.68825\u001b[0m, \u001b[1;36m19.80161\u001b[0m \u001b[1;36m42\u001b[0m\u001b[33m...\u001b[0m\n",
       "\u001b[1;36m1\u001b[0m  pv932yw9333.\u001b[1;36m10\u001b[0m  \u001b[33m...\u001b[0m  MULTIPOLYGON \u001b[1m(\u001b[0m\u001b[1m(\u001b[0m\u001b[1m(\u001b[0m\u001b[1;36m16.96029\u001b[0m \u001b[1;36m48.59698\u001b[0m, \u001b[1;36m16.87998\u001b[0m \u001b[1;36m48\u001b[0m\u001b[33m...\u001b[0m\n",
       "\u001b[1;36m2\u001b[0m  pv932yw9333.\u001b[1;36m13\u001b[0m  \u001b[33m...\u001b[0m  MULTIPOLYGON \u001b[1m(\u001b[0m\u001b[1m(\u001b[0m\u001b[1m(\u001b[0m\u001b[1;36m4.97399\u001b[0m \u001b[1;36m51.47502\u001b[0m, \u001b[1;36m5.60698\u001b[0m \u001b[1;36m51.0\u001b[0m\u001b[33m...\u001b[0m\n",
       "\u001b[1;36m3\u001b[0m  pv932yw9333.\u001b[1;36m17\u001b[0m  \u001b[33m...\u001b[0m  MULTIPOLYGON \u001b[1m(\u001b[0m\u001b[1m(\u001b[0m\u001b[1m(\u001b[0m\u001b[1;36m28.55808\u001b[0m \u001b[1;36m43.70746\u001b[0m, \u001b[1;36m28.03910\u001b[0m \u001b[1;36m43\u001b[0m\u001b[33m...\u001b[0m\n",
       "\u001b[1;36m4\u001b[0m  pv932yw9333.\u001b[1;36m19\u001b[0m  \u001b[33m...\u001b[0m  MULTIPOLYGON \u001b[1m(\u001b[0m\u001b[1m(\u001b[0m\u001b[1m(\u001b[0m\u001b[1;36m17.00215\u001b[0m \u001b[1;36m45.23378\u001b[0m, \u001b[1;36m17.86178\u001b[0m \u001b[1;36m45\u001b[0m\u001b[33m...\u001b[0m\n",
       "\n",
       "\u001b[1m[\u001b[0m\u001b[1;36m5\u001b[0m rows x \u001b[1;36m66\u001b[0m columns\u001b[1m]\u001b[0m\n"
      ]
     },
     "metadata": {},
     "output_type": "display_data"
    },
    {
     "data": {
      "text/html": [
       "<pre style=\"white-space:pre;overflow-x:auto;line-height:normal;font-family:Menlo,'DejaVu Sans Mono',consolas,'Courier New',monospace\">                id  <span style=\"color: #808000; text-decoration-color: #808000\">...</span>                                           geometry\n",
       "<span style=\"color: #008080; text-decoration-color: #008080; font-weight: bold\">14</span>  pv932yw9333.<span style=\"color: #008080; text-decoration-color: #008080; font-weight: bold\">56</span>  <span style=\"color: #808000; text-decoration-color: #808000\">...</span>  MULTIPOLYGON <span style=\"font-weight: bold\">(((</span><span style=\"color: #008080; text-decoration-color: #008080; font-weight: bold\">-52.55642</span> <span style=\"color: #008080; text-decoration-color: #008080; font-weight: bold\">2.50471</span>, <span style=\"color: #008080; text-decoration-color: #008080; font-weight: bold\">-52.93966</span> <span style=\"color: #008080; text-decoration-color: #008080; font-weight: bold\">2</span><span style=\"color: #808000; text-decoration-color: #808000\">...</span>\n",
       "\n",
       "<span style=\"font-weight: bold\">[</span><span style=\"color: #008080; text-decoration-color: #008080; font-weight: bold\">1</span> rows x <span style=\"color: #008080; text-decoration-color: #008080; font-weight: bold\">66</span> columns<span style=\"font-weight: bold\">]</span>\n",
       "</pre>\n"
      ],
      "text/plain": [
       "                id  \u001b[33m...\u001b[0m                                           geometry\n",
       "\u001b[1;36m14\u001b[0m  pv932yw9333.\u001b[1;36m56\u001b[0m  \u001b[33m...\u001b[0m  MULTIPOLYGON \u001b[1m(\u001b[0m\u001b[1m(\u001b[0m\u001b[1m(\u001b[0m\u001b[1;36m-52.55642\u001b[0m \u001b[1;36m2.50471\u001b[0m, \u001b[1;36m-52.93966\u001b[0m \u001b[1;36m2\u001b[0m\u001b[33m...\u001b[0m\n",
       "\n",
       "\u001b[1m[\u001b[0m\u001b[1;36m1\u001b[0m rows x \u001b[1;36m66\u001b[0m columns\u001b[1m]\u001b[0m\n"
      ]
     },
     "metadata": {},
     "output_type": "display_data"
    },
    {
     "data": {
      "text/html": [
       "<pre style=\"white-space:pre;overflow-x:auto;line-height:normal;font-family:Menlo,'DejaVu Sans Mono',consolas,'Courier New',monospace\">                id  <span style=\"color: #808000; text-decoration-color: #808000\">...</span>                                           geometry\n",
       "<span style=\"color: #008080; text-decoration-color: #008080; font-weight: bold\">14</span>  pv932yw9333.<span style=\"color: #008080; text-decoration-color: #008080; font-weight: bold\">56</span>  <span style=\"color: #808000; text-decoration-color: #808000\">...</span>  MULTIPOLYGON <span style=\"font-weight: bold\">(((</span><span style=\"color: #008080; text-decoration-color: #008080; font-weight: bold\">-52.55642</span> <span style=\"color: #008080; text-decoration-color: #008080; font-weight: bold\">2.50471</span>, <span style=\"color: #008080; text-decoration-color: #008080; font-weight: bold\">-52.93966</span> <span style=\"color: #008080; text-decoration-color: #008080; font-weight: bold\">2</span><span style=\"color: #808000; text-decoration-color: #808000\">...</span>\n",
       "\n",
       "<span style=\"font-weight: bold\">[</span><span style=\"color: #008080; text-decoration-color: #008080; font-weight: bold\">1</span> rows x <span style=\"color: #008080; text-decoration-color: #008080; font-weight: bold\">66</span> columns<span style=\"font-weight: bold\">]</span>\n",
       "</pre>\n"
      ],
      "text/plain": [
       "                id  \u001b[33m...\u001b[0m                                           geometry\n",
       "\u001b[1;36m14\u001b[0m  pv932yw9333.\u001b[1;36m56\u001b[0m  \u001b[33m...\u001b[0m  MULTIPOLYGON \u001b[1m(\u001b[0m\u001b[1m(\u001b[0m\u001b[1m(\u001b[0m\u001b[1;36m-52.55642\u001b[0m \u001b[1;36m2.50471\u001b[0m, \u001b[1;36m-52.93966\u001b[0m \u001b[1;36m2\u001b[0m\u001b[33m...\u001b[0m\n",
       "\n",
       "\u001b[1m[\u001b[0m\u001b[1;36m1\u001b[0m rows x \u001b[1;36m66\u001b[0m columns\u001b[1m]\u001b[0m\n"
      ]
     },
     "metadata": {},
     "output_type": "display_data"
    }
   ],
   "source": [
    "chp = CountryHelper(\"Europe.geojson\")\n",
    "\n",
    "gdf = geopandas.GeoDataFrame.from_file(\"Europe.geojson\")\n",
    "\n",
    "print(gdf[:5])\n",
    "\n",
    "# polygons = chp.getGeoPolygons()\n",
    "\n",
    "s1 = geopandas.GeoSeries(gdf.geometry)\n",
    "\n",
    "# s1.is_valid\n",
    "\n",
    "\n",
    "\n",
    "# m = folium.Map(\n",
    "#     location=[50,50],\n",
    "#     zoom_start=3\n",
    "# )\n",
    "\n",
    "bbox = [\n",
    "    [-28.4765625, 35.03133177633187],\n",
    "    [45.52734375, 35.03133177633187],\n",
    "    [45.52734375, 70.96538769913127],\n",
    "    [-28.4765625, 70.96538769913127],\n",
    "    [-28.4765625, 35.03133177633187],\n",
    "]\n",
    "\n",
    "# s1.is_valid\n",
    "\n",
    "res = s1.sindex.query(Polygon(bbox))\n",
    "\n",
    "# res = sorted(res)\n",
    "# print(res)\n",
    "\n",
    "france = [2.109375,46.31658418182218]\n",
    "\n",
    "res2 = s1.sindex.query(Point(france))\n",
    "\n",
    "for r in res2:\n",
    "    #print(r)\n",
    "    #print(gdf.cx[:, :r])\n",
    "\n",
    "\n",
    "# newPolygons = []\n",
    "# for i in res:\n",
    "#     newPolygons.append(polygons[i])\n",
    "\n",
    "# s1 = geopandas.GeoSeries(newPolygons)\n",
    "\n",
    "# res = s1.sindex.query(Polygon(bbox))\n",
    "# print(sorted(res))\n"
   ]
  }
 ],
 "metadata": {
  "interpreter": {
   "hash": "f5c55bf09c325abbfc47371819a54373c4e3ab4849743ded2b8dc316fbb7d9f6"
  },
  "kernelspec": {
   "display_name": "Python 3.9.10 ('venv': venv)",
   "language": "python",
   "name": "python3"
  },
  "language_info": {
   "codemirror_mode": {
    "name": "ipython",
    "version": 3
   },
   "file_extension": ".py",
   "mimetype": "text/x-python",
   "name": "python",
   "nbconvert_exporter": "python",
   "pygments_lexer": "ipython3",
   "version": "3.9.10"
  },
  "orig_nbformat": 4
 },
 "nbformat": 4,
 "nbformat_minor": 2
}
