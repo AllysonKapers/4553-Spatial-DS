{
 "cells": [
  {
   "cell_type": "code",
   "execution_count": 1,
   "metadata": {},
   "outputs": [],
   "source": [
    "import geopandas\n",
    "import folium\n",
    "import json\n",
    "from rich import print"
   ]
  },
  {
   "cell_type": "markdown",
   "metadata": {},
   "source": [
    "### Basic Map"
   ]
  },
  {
   "cell_type": "code",
   "execution_count": 2,
   "metadata": {},
   "outputs": [
    {
     "data": {
      "text/html": [
       "<div style=\"width:100%;\"><div style=\"position:relative;width:100%;height:0;padding-bottom:60%;\"><span style=\"color:#565656\">Make this Notebook Trusted to load map: File -> Trust Notebook</span><iframe src=\"about:blank\" style=\"position:absolute;width:100%;height:100%;left:0;top:0;border:none !important;\" data-html=%3C%21DOCTYPE%20html%3E%0A%3Chead%3E%20%20%20%20%0A%20%20%20%20%3Cmeta%20http-equiv%3D%22content-type%22%20content%3D%22text/html%3B%20charset%3DUTF-8%22%20/%3E%0A%20%20%20%20%0A%20%20%20%20%20%20%20%20%3Cscript%3E%0A%20%20%20%20%20%20%20%20%20%20%20%20L_NO_TOUCH%20%3D%20false%3B%0A%20%20%20%20%20%20%20%20%20%20%20%20L_DISABLE_3D%20%3D%20false%3B%0A%20%20%20%20%20%20%20%20%3C/script%3E%0A%20%20%20%20%0A%20%20%20%20%3Cstyle%3Ehtml%2C%20body%20%7Bwidth%3A%20100%25%3Bheight%3A%20100%25%3Bmargin%3A%200%3Bpadding%3A%200%3B%7D%3C/style%3E%0A%20%20%20%20%3Cstyle%3E%23map%20%7Bposition%3Aabsolute%3Btop%3A0%3Bbottom%3A0%3Bright%3A0%3Bleft%3A0%3B%7D%3C/style%3E%0A%20%20%20%20%3Cscript%20src%3D%22https%3A//cdn.jsdelivr.net/npm/leaflet%401.6.0/dist/leaflet.js%22%3E%3C/script%3E%0A%20%20%20%20%3Cscript%20src%3D%22https%3A//code.jquery.com/jquery-1.12.4.min.js%22%3E%3C/script%3E%0A%20%20%20%20%3Cscript%20src%3D%22https%3A//maxcdn.bootstrapcdn.com/bootstrap/3.2.0/js/bootstrap.min.js%22%3E%3C/script%3E%0A%20%20%20%20%3Cscript%20src%3D%22https%3A//cdnjs.cloudflare.com/ajax/libs/Leaflet.awesome-markers/2.0.2/leaflet.awesome-markers.js%22%3E%3C/script%3E%0A%20%20%20%20%3Clink%20rel%3D%22stylesheet%22%20href%3D%22https%3A//cdn.jsdelivr.net/npm/leaflet%401.6.0/dist/leaflet.css%22/%3E%0A%20%20%20%20%3Clink%20rel%3D%22stylesheet%22%20href%3D%22https%3A//maxcdn.bootstrapcdn.com/bootstrap/3.2.0/css/bootstrap.min.css%22/%3E%0A%20%20%20%20%3Clink%20rel%3D%22stylesheet%22%20href%3D%22https%3A//maxcdn.bootstrapcdn.com/bootstrap/3.2.0/css/bootstrap-theme.min.css%22/%3E%0A%20%20%20%20%3Clink%20rel%3D%22stylesheet%22%20href%3D%22https%3A//maxcdn.bootstrapcdn.com/font-awesome/4.6.3/css/font-awesome.min.css%22/%3E%0A%20%20%20%20%3Clink%20rel%3D%22stylesheet%22%20href%3D%22https%3A//cdnjs.cloudflare.com/ajax/libs/Leaflet.awesome-markers/2.0.2/leaflet.awesome-markers.css%22/%3E%0A%20%20%20%20%3Clink%20rel%3D%22stylesheet%22%20href%3D%22https%3A//cdn.jsdelivr.net/gh/python-visualization/folium/folium/templates/leaflet.awesome.rotate.min.css%22/%3E%0A%20%20%20%20%0A%20%20%20%20%20%20%20%20%20%20%20%20%3Cmeta%20name%3D%22viewport%22%20content%3D%22width%3Ddevice-width%2C%0A%20%20%20%20%20%20%20%20%20%20%20%20%20%20%20%20initial-scale%3D1.0%2C%20maximum-scale%3D1.0%2C%20user-scalable%3Dno%22%20/%3E%0A%20%20%20%20%20%20%20%20%20%20%20%20%3Cstyle%3E%0A%20%20%20%20%20%20%20%20%20%20%20%20%20%20%20%20%23map_01b7145a42804cb89a404fb6ad324d05%20%7B%0A%20%20%20%20%20%20%20%20%20%20%20%20%20%20%20%20%20%20%20%20position%3A%20relative%3B%0A%20%20%20%20%20%20%20%20%20%20%20%20%20%20%20%20%20%20%20%20width%3A%20100.0%25%3B%0A%20%20%20%20%20%20%20%20%20%20%20%20%20%20%20%20%20%20%20%20height%3A%20100.0%25%3B%0A%20%20%20%20%20%20%20%20%20%20%20%20%20%20%20%20%20%20%20%20left%3A%200.0%25%3B%0A%20%20%20%20%20%20%20%20%20%20%20%20%20%20%20%20%20%20%20%20top%3A%200.0%25%3B%0A%20%20%20%20%20%20%20%20%20%20%20%20%20%20%20%20%7D%0A%20%20%20%20%20%20%20%20%20%20%20%20%3C/style%3E%0A%20%20%20%20%20%20%20%20%0A%3C/head%3E%0A%3Cbody%3E%20%20%20%20%0A%20%20%20%20%0A%20%20%20%20%20%20%20%20%20%20%20%20%3Cdiv%20class%3D%22folium-map%22%20id%3D%22map_01b7145a42804cb89a404fb6ad324d05%22%20%3E%3C/div%3E%0A%20%20%20%20%20%20%20%20%0A%3C/body%3E%0A%3Cscript%3E%20%20%20%20%0A%20%20%20%20%0A%20%20%20%20%20%20%20%20%20%20%20%20var%20map_01b7145a42804cb89a404fb6ad324d05%20%3D%20L.map%28%0A%20%20%20%20%20%20%20%20%20%20%20%20%20%20%20%20%22map_01b7145a42804cb89a404fb6ad324d05%22%2C%0A%20%20%20%20%20%20%20%20%20%20%20%20%20%20%20%20%7B%0A%20%20%20%20%20%20%20%20%20%20%20%20%20%20%20%20%20%20%20%20center%3A%20%5B45.5236%2C%20-122.675%5D%2C%0A%20%20%20%20%20%20%20%20%20%20%20%20%20%20%20%20%20%20%20%20crs%3A%20L.CRS.EPSG3857%2C%0A%20%20%20%20%20%20%20%20%20%20%20%20%20%20%20%20%20%20%20%20zoom%3A%2010%2C%0A%20%20%20%20%20%20%20%20%20%20%20%20%20%20%20%20%20%20%20%20zoomControl%3A%20true%2C%0A%20%20%20%20%20%20%20%20%20%20%20%20%20%20%20%20%20%20%20%20preferCanvas%3A%20false%2C%0A%20%20%20%20%20%20%20%20%20%20%20%20%20%20%20%20%7D%0A%20%20%20%20%20%20%20%20%20%20%20%20%29%3B%0A%0A%20%20%20%20%20%20%20%20%20%20%20%20%0A%0A%20%20%20%20%20%20%20%20%0A%20%20%20%20%0A%20%20%20%20%20%20%20%20%20%20%20%20var%20tile_layer_82adf33cc1264148bf23f3c1e655bc40%20%3D%20L.tileLayer%28%0A%20%20%20%20%20%20%20%20%20%20%20%20%20%20%20%20%22https%3A//%7Bs%7D.tile.openstreetmap.org/%7Bz%7D/%7Bx%7D/%7By%7D.png%22%2C%0A%20%20%20%20%20%20%20%20%20%20%20%20%20%20%20%20%7B%22attribution%22%3A%20%22Data%20by%20%5Cu0026copy%3B%20%5Cu003ca%20href%3D%5C%22http%3A//openstreetmap.org%5C%22%5Cu003eOpenStreetMap%5Cu003c/a%5Cu003e%2C%20under%20%5Cu003ca%20href%3D%5C%22http%3A//www.openstreetmap.org/copyright%5C%22%5Cu003eODbL%5Cu003c/a%5Cu003e.%22%2C%20%22detectRetina%22%3A%20false%2C%20%22maxNativeZoom%22%3A%2018%2C%20%22maxZoom%22%3A%2018%2C%20%22minZoom%22%3A%200%2C%20%22noWrap%22%3A%20false%2C%20%22opacity%22%3A%201%2C%20%22subdomains%22%3A%20%22abc%22%2C%20%22tms%22%3A%20false%7D%0A%20%20%20%20%20%20%20%20%20%20%20%20%29.addTo%28map_01b7145a42804cb89a404fb6ad324d05%29%3B%0A%20%20%20%20%20%20%20%20%0A%3C/script%3E onload=\"this.contentDocument.open();this.contentDocument.write(    decodeURIComponent(this.getAttribute('data-html')));this.contentDocument.close();\" allowfullscreen webkitallowfullscreen mozallowfullscreen></iframe></div></div>"
      ],
      "text/plain": [
       "<folium.folium.Map at 0x7fc90beb3400>"
      ]
     },
     "execution_count": 2,
     "metadata": {},
     "output_type": "execute_result"
    }
   ],
   "source": [
    "m1 = folium.Map(location=[45.5236, -122.6750])\n",
    "m1"
   ]
  },
  {
   "cell_type": "markdown",
   "metadata": {},
   "source": [
    "### File Save\n",
    "\n",
    "To save it in a file:"
   ]
  },
  {
   "cell_type": "code",
   "execution_count": 3,
   "metadata": {},
   "outputs": [],
   "source": [
    "m1.save(\"01_basic_map.html\")"
   ]
  },
  {
   "cell_type": "markdown",
   "metadata": {},
   "source": [
    "### GeoJson\n",
    "\n",
    "Now lets open a geojson file, and add it to another map."
   ]
  },
  {
   "cell_type": "code",
   "execution_count": 4,
   "metadata": {},
   "outputs": [],
   "source": [
    "# open local geojson file \n",
    "with open(\"Europe.geojson\") as f:\n",
    "    europe = json.load(f)\n",
    "\n",
    "# create a map and give it a center and initial zoom\n",
    "m2 = folium.Map(\n",
    "    location=[50,50],\n",
    "    zoom_start=3\n",
    "    )\n",
    "\n",
    "# add the geojson of europe. \n",
    "# remember it must be valid geojson!\n",
    "folium.GeoJson(europe, \n",
    "    name=\"geojson\").add_to(m2)\n",
    "\n",
    "# add the layer control (zoom in and out buttons)\n",
    "folium.LayerControl().add_to(m2)\n",
    "m2\n",
    "m2.save(\"02_geojson_map.html\")"
   ]
  },
  {
   "cell_type": "markdown",
   "metadata": {},
   "source": [
    "### Add Styling\n",
    "\n",
    "Now we can change the style of the default look given to geojson files. "
   ]
  },
  {
   "cell_type": "code",
   "execution_count": 5,
   "metadata": {},
   "outputs": [],
   "source": [
    "# create a map and give it a center and initial zoom\n",
    "m3 = folium.Map(\n",
    "    location=[50,50],\n",
    "    tiles=\"OpenStreetMap\",\n",
    "    zoom_start=3\n",
    "    )\n",
    "\n",
    "# This is where we create a style \"objext\" (python dictionary)\n",
    "style = {\n",
    "    'fillColor': '#d0FF34', \n",
    "    'fillOpacity':'1',\n",
    "    'color': '#000000',\n",
    "    'weight':1,  # in pixels\n",
    "    'opacity':1  # from 0 - 1 (one being no opacity)\n",
    "}\n",
    "\n",
    "# folium uses a lambda style function to (\"I'm guessing\")\n",
    "folium.GeoJson(europe, \n",
    "    name=\"geojson\",\n",
    "    style_function=lambda x: style).add_to(m3)\n",
    "\n",
    "\n",
    "folium.LayerControl().add_to(m3)\n",
    "m3\n",
    "m3.save(\"03_geojson_styled.html\")"
   ]
  },
  {
   "cell_type": "markdown",
   "metadata": {},
   "source": [
    "### Labels\n",
    "\n",
    "This next section we will create a list to be used as labels for the section after. "
   ]
  },
  {
   "cell_type": "code",
   "execution_count": 6,
   "metadata": {},
   "outputs": [
    {
     "data": {
      "text/html": [
       "<pre style=\"white-space:pre;overflow-x:auto;line-height:normal;font-family:Menlo,'DejaVu Sans Mono',consolas,'Courier New',monospace\"><span style=\"font-weight: bold\">[</span>\n",
       "    <span style=\"font-weight: bold\">{</span><span style=\"color: #008000; text-decoration-color: #008000\">'name'</span>: <span style=\"color: #008000; text-decoration-color: #008000\">'Albania'</span>, <span style=\"color: #008000; text-decoration-color: #008000\">'lon'</span>: <span style=\"color: #008080; text-decoration-color: #008080; font-weight: bold\">20.16226322</span>, <span style=\"color: #008000; text-decoration-color: #008000\">'lat'</span>: <span style=\"color: #008080; text-decoration-color: #008080; font-weight: bold\">41.156622525</span><span style=\"font-weight: bold\">}</span>,\n",
       "    <span style=\"font-weight: bold\">{</span><span style=\"color: #008000; text-decoration-color: #008000\">'name'</span>: <span style=\"color: #008000; text-decoration-color: #008000\">'Austria'</span>, <span style=\"color: #008000; text-decoration-color: #008000\">'lon'</span>: <span style=\"color: #008080; text-decoration-color: #008080; font-weight: bold\">13.22981815</span>, <span style=\"color: #008000; text-decoration-color: #008000\">'lat'</span>: <span style=\"color: #008080; text-decoration-color: #008080; font-weight: bold\">47.73544577</span><span style=\"font-weight: bold\">}</span>,\n",
       "    <span style=\"font-weight: bold\">{</span><span style=\"color: #008000; text-decoration-color: #008000\">'name'</span>: <span style=\"color: #008000; text-decoration-color: #008000\">'Belgium'</span>, <span style=\"color: #008000; text-decoration-color: #008000\">'lon'</span>: <span style=\"color: #008080; text-decoration-color: #008080; font-weight: bold\">4.3351155949999995</span>, <span style=\"color: #008000; text-decoration-color: #008000\">'lat'</span>: <span style=\"color: #008080; text-decoration-color: #008080; font-weight: bold\">50.50225363</span><span style=\"font-weight: bold\">}</span>,\n",
       "    <span style=\"font-weight: bold\">{</span><span style=\"color: #008000; text-decoration-color: #008000\">'name'</span>: <span style=\"color: #008000; text-decoration-color: #008000\">'Bulgaria'</span>, <span style=\"color: #008000; text-decoration-color: #008000\">'lon'</span>: <span style=\"color: #008080; text-decoration-color: #008080; font-weight: bold\">25.469303625000002</span>, <span style=\"color: #008000; text-decoration-color: #008000\">'lat'</span>: <span style=\"color: #008080; text-decoration-color: #008080; font-weight: bold\">42.734704495</span><span style=\"font-weight: bold\">}</span>,\n",
       "    <span style=\"font-weight: bold\">{</span><span style=\"color: #008000; text-decoration-color: #008000\">'name'</span>: <span style=\"color: #008000; text-decoration-color: #008000\">'Bosnia and Herz.'</span>, <span style=\"color: #008000; text-decoration-color: #008000\">'lon'</span>: <span style=\"color: #008080; text-decoration-color: #008080; font-weight: bold\">17.67489304</span>, <span style=\"color: #008000; text-decoration-color: #008000\">'lat'</span>: <span style=\"color: #008080; text-decoration-color: #008080; font-weight: bold\">43.941888379999995</span><span style=\"font-weight: bold\">}</span>,\n",
       "    <span style=\"font-weight: bold\">{</span><span style=\"color: #008000; text-decoration-color: #008000\">'name'</span>: <span style=\"color: #008000; text-decoration-color: #008000\">'Belarus'</span>, <span style=\"color: #008000; text-decoration-color: #008000\">'lon'</span>: <span style=\"color: #008080; text-decoration-color: #008080; font-weight: bold\">27.946568435000003</span>, <span style=\"color: #008000; text-decoration-color: #008000\">'lat'</span>: <span style=\"color: #008080; text-decoration-color: #008080; font-weight: bold\">53.74431672</span><span style=\"font-weight: bold\">}</span>,\n",
       "    <span style=\"font-weight: bold\">{</span><span style=\"color: #008000; text-decoration-color: #008000\">'name'</span>: <span style=\"color: #008000; text-decoration-color: #008000\">'Switzerland'</span>, <span style=\"color: #008000; text-decoration-color: #008000\">'lon'</span>: <span style=\"color: #008080; text-decoration-color: #008080; font-weight: bold\">8.23265547</span>, <span style=\"color: #008000; text-decoration-color: #008000\">'lat'</span>: <span style=\"color: #008080; text-decoration-color: #008080; font-weight: bold\">46.80388764</span><span style=\"font-weight: bold\">}</span>,\n",
       "    <span style=\"font-weight: bold\">{</span><span style=\"color: #008000; text-decoration-color: #008000\">'name'</span>: <span style=\"color: #008000; text-decoration-color: #008000\">'Kosovo'</span>, <span style=\"color: #008000; text-decoration-color: #008000\">'lon'</span>: <span style=\"color: #008080; text-decoration-color: #008080; font-weight: bold\">20.922874999999998</span>, <span style=\"color: #008000; text-decoration-color: #008000\">'lat'</span>: <span style=\"color: #008080; text-decoration-color: #008080; font-weight: bold\">42.55958</span><span style=\"font-weight: bold\">}</span>,\n",
       "    <span style=\"font-weight: bold\">{</span><span style=\"color: #008000; text-decoration-color: #008000\">'name'</span>: <span style=\"color: #008000; text-decoration-color: #008000\">'Czech Rep.'</span>, <span style=\"color: #008000; text-decoration-color: #008000\">'lon'</span>: <span style=\"color: #008080; text-decoration-color: #008080; font-weight: bold\">15.54662764</span>, <span style=\"color: #008000; text-decoration-color: #008000\">'lat'</span>: <span style=\"color: #008080; text-decoration-color: #008080; font-weight: bold\">49.836286525</span><span style=\"font-weight: bold\">}</span>,\n",
       "    <span style=\"font-weight: bold\">{</span><span style=\"color: #008000; text-decoration-color: #008000\">'name'</span>: <span style=\"color: #008000; text-decoration-color: #008000\">'Germany'</span>, <span style=\"color: #008000; text-decoration-color: #008000\">'lon'</span>: <span style=\"color: #008080; text-decoration-color: #008080; font-weight: bold\">10.502826975</span>, <span style=\"color: #008000; text-decoration-color: #008000\">'lat'</span>: <span style=\"color: #008080; text-decoration-color: #008080; font-weight: bold\">51.142795925</span><span style=\"font-weight: bold\">}</span>,\n",
       "    <span style=\"font-weight: bold\">{</span><span style=\"color: #008000; text-decoration-color: #008000\">'name'</span>: <span style=\"color: #008000; text-decoration-color: #008000\">'Denmark'</span>, <span style=\"color: #008000; text-decoration-color: #008000\">'lon'</span>: <span style=\"color: #008080; text-decoration-color: #008080; font-weight: bold\">10.38999149</span>, <span style=\"color: #008000; text-decoration-color: #008000\">'lat'</span>: <span style=\"color: #008080; text-decoration-color: #008080; font-weight: bold\">56.26501557</span><span style=\"font-weight: bold\">}</span>,\n",
       "    <span style=\"font-weight: bold\">{</span><span style=\"color: #008000; text-decoration-color: #008000\">'name'</span>: <span style=\"color: #008000; text-decoration-color: #008000\">'Spain'</span>, <span style=\"color: #008000; text-decoration-color: #008000\">'lon'</span>: <span style=\"color: #008080; text-decoration-color: #008080; font-weight: bold\">-3.176699795</span>, <span style=\"color: #008000; text-decoration-color: #008000\">'lat'</span>: <span style=\"color: #008080; text-decoration-color: #008080; font-weight: bold\">39.847593895</span><span style=\"font-weight: bold\">}</span>,\n",
       "    <span style=\"font-weight: bold\">{</span><span style=\"color: #008000; text-decoration-color: #008000\">'name'</span>: <span style=\"color: #008000; text-decoration-color: #008000\">'Estonia'</span>, <span style=\"color: #008000; text-decoration-color: #008000\">'lon'</span>: <span style=\"color: #008080; text-decoration-color: #008080; font-weight: bold\">25.735747305</span>, <span style=\"color: #008000; text-decoration-color: #008000\">'lat'</span>: <span style=\"color: #008080; text-decoration-color: #008080; font-weight: bold\">58.542809355</span><span style=\"font-weight: bold\">}</span>,\n",
       "    <span style=\"font-weight: bold\">{</span><span style=\"color: #008000; text-decoration-color: #008000\">'name'</span>: <span style=\"color: #008000; text-decoration-color: #008000\">'Finland'</span>, <span style=\"color: #008000; text-decoration-color: #008000\">'lon'</span>: <span style=\"color: #008080; text-decoration-color: #008080; font-weight: bold\">26.080842525</span>, <span style=\"color: #008000; text-decoration-color: #008000\">'lat'</span>: <span style=\"color: #008080; text-decoration-color: #008080; font-weight: bold\">65.00528311</span><span style=\"font-weight: bold\">}</span>,\n",
       "    <span style=\"font-weight: bold\">{</span><span style=\"color: #008000; text-decoration-color: #008000\">'name'</span>: <span style=\"color: #008000; text-decoration-color: #008000\">'France'</span>, <span style=\"color: #008000; text-decoration-color: #008000\">'lon'</span>: <span style=\"color: #008080; text-decoration-color: #008080; font-weight: bold\">-22.482368944999997</span>, <span style=\"color: #008000; text-decoration-color: #008000\">'lat'</span>: <span style=\"color: #008080; text-decoration-color: #008080; font-weight: bold\">26.600947679999997</span><span style=\"font-weight: bold\">}</span>\n",
       "<span style=\"font-weight: bold\">]</span>\n",
       "</pre>\n"
      ],
      "text/plain": [
       "\u001b[1m[\u001b[0m\n",
       "    \u001b[1m{\u001b[0m\u001b[32m'name'\u001b[0m: \u001b[32m'Albania'\u001b[0m, \u001b[32m'lon'\u001b[0m: \u001b[1;36m20.16226322\u001b[0m, \u001b[32m'lat'\u001b[0m: \u001b[1;36m41.156622525\u001b[0m\u001b[1m}\u001b[0m,\n",
       "    \u001b[1m{\u001b[0m\u001b[32m'name'\u001b[0m: \u001b[32m'Austria'\u001b[0m, \u001b[32m'lon'\u001b[0m: \u001b[1;36m13.22981815\u001b[0m, \u001b[32m'lat'\u001b[0m: \u001b[1;36m47.73544577\u001b[0m\u001b[1m}\u001b[0m,\n",
       "    \u001b[1m{\u001b[0m\u001b[32m'name'\u001b[0m: \u001b[32m'Belgium'\u001b[0m, \u001b[32m'lon'\u001b[0m: \u001b[1;36m4.3351155949999995\u001b[0m, \u001b[32m'lat'\u001b[0m: \u001b[1;36m50.50225363\u001b[0m\u001b[1m}\u001b[0m,\n",
       "    \u001b[1m{\u001b[0m\u001b[32m'name'\u001b[0m: \u001b[32m'Bulgaria'\u001b[0m, \u001b[32m'lon'\u001b[0m: \u001b[1;36m25.469303625000002\u001b[0m, \u001b[32m'lat'\u001b[0m: \u001b[1;36m42.734704495\u001b[0m\u001b[1m}\u001b[0m,\n",
       "    \u001b[1m{\u001b[0m\u001b[32m'name'\u001b[0m: \u001b[32m'Bosnia and Herz.'\u001b[0m, \u001b[32m'lon'\u001b[0m: \u001b[1;36m17.67489304\u001b[0m, \u001b[32m'lat'\u001b[0m: \u001b[1;36m43.941888379999995\u001b[0m\u001b[1m}\u001b[0m,\n",
       "    \u001b[1m{\u001b[0m\u001b[32m'name'\u001b[0m: \u001b[32m'Belarus'\u001b[0m, \u001b[32m'lon'\u001b[0m: \u001b[1;36m27.946568435000003\u001b[0m, \u001b[32m'lat'\u001b[0m: \u001b[1;36m53.74431672\u001b[0m\u001b[1m}\u001b[0m,\n",
       "    \u001b[1m{\u001b[0m\u001b[32m'name'\u001b[0m: \u001b[32m'Switzerland'\u001b[0m, \u001b[32m'lon'\u001b[0m: \u001b[1;36m8.23265547\u001b[0m, \u001b[32m'lat'\u001b[0m: \u001b[1;36m46.80388764\u001b[0m\u001b[1m}\u001b[0m,\n",
       "    \u001b[1m{\u001b[0m\u001b[32m'name'\u001b[0m: \u001b[32m'Kosovo'\u001b[0m, \u001b[32m'lon'\u001b[0m: \u001b[1;36m20.922874999999998\u001b[0m, \u001b[32m'lat'\u001b[0m: \u001b[1;36m42.55958\u001b[0m\u001b[1m}\u001b[0m,\n",
       "    \u001b[1m{\u001b[0m\u001b[32m'name'\u001b[0m: \u001b[32m'Czech Rep.'\u001b[0m, \u001b[32m'lon'\u001b[0m: \u001b[1;36m15.54662764\u001b[0m, \u001b[32m'lat'\u001b[0m: \u001b[1;36m49.836286525\u001b[0m\u001b[1m}\u001b[0m,\n",
       "    \u001b[1m{\u001b[0m\u001b[32m'name'\u001b[0m: \u001b[32m'Germany'\u001b[0m, \u001b[32m'lon'\u001b[0m: \u001b[1;36m10.502826975\u001b[0m, \u001b[32m'lat'\u001b[0m: \u001b[1;36m51.142795925\u001b[0m\u001b[1m}\u001b[0m,\n",
       "    \u001b[1m{\u001b[0m\u001b[32m'name'\u001b[0m: \u001b[32m'Denmark'\u001b[0m, \u001b[32m'lon'\u001b[0m: \u001b[1;36m10.38999149\u001b[0m, \u001b[32m'lat'\u001b[0m: \u001b[1;36m56.26501557\u001b[0m\u001b[1m}\u001b[0m,\n",
       "    \u001b[1m{\u001b[0m\u001b[32m'name'\u001b[0m: \u001b[32m'Spain'\u001b[0m, \u001b[32m'lon'\u001b[0m: \u001b[1;36m-3.176699795\u001b[0m, \u001b[32m'lat'\u001b[0m: \u001b[1;36m39.847593895\u001b[0m\u001b[1m}\u001b[0m,\n",
       "    \u001b[1m{\u001b[0m\u001b[32m'name'\u001b[0m: \u001b[32m'Estonia'\u001b[0m, \u001b[32m'lon'\u001b[0m: \u001b[1;36m25.735747305\u001b[0m, \u001b[32m'lat'\u001b[0m: \u001b[1;36m58.542809355\u001b[0m\u001b[1m}\u001b[0m,\n",
       "    \u001b[1m{\u001b[0m\u001b[32m'name'\u001b[0m: \u001b[32m'Finland'\u001b[0m, \u001b[32m'lon'\u001b[0m: \u001b[1;36m26.080842525\u001b[0m, \u001b[32m'lat'\u001b[0m: \u001b[1;36m65.00528311\u001b[0m\u001b[1m}\u001b[0m,\n",
       "    \u001b[1m{\u001b[0m\u001b[32m'name'\u001b[0m: \u001b[32m'France'\u001b[0m, \u001b[32m'lon'\u001b[0m: \u001b[1;36m-22.482368944999997\u001b[0m, \u001b[32m'lat'\u001b[0m: \u001b[1;36m26.600947679999997\u001b[0m\u001b[1m}\u001b[0m\n",
       "\u001b[1m]\u001b[0m\n"
      ]
     },
     "metadata": {},
     "output_type": "display_data"
    }
   ],
   "source": [
    "countries = europe['features']\n",
    "\n",
    "nameLabels = []\n",
    "for country in countries:\n",
    "      bbox=country['properties']['bbox']\n",
    "      lon = (bbox[0] + bbox[2]) / 2\n",
    "      lat = (bbox[1] + bbox[3]) / 2\n",
    "      nameLabels.append({'name':country['properties']['name'],'lon':lon,'lat':lat})\n",
    "\n",
    "print(nameLabels[:15])\n"
   ]
  },
  {
   "cell_type": "markdown",
   "metadata": {},
   "source": [
    "### Adding More Style"
   ]
  },
  {
   "cell_type": "code",
   "execution_count": 7,
   "metadata": {},
   "outputs": [],
   "source": [
    "#tiles=\"cartodbpositron\"\n",
    "#tiles=\"OpenStreetMap\"\n",
    "loc = 'Europe'\n",
    "title_html = '''\n",
    "             <h3 align=\"center\" style=\"font-size:16px\"><b>{}</b></h3>\n",
    "             '''.format(loc) \n",
    "\n",
    "m3.get_root().html.add_child(folium.Element(title_html))\n",
    "\n",
    "for label in nameLabels:\n",
    "   folium.Marker(\n",
    "      location=[label['lat'], label['lon']],\n",
    "      popup=label['name'],\n",
    "      icon=folium.DivIcon(html=f\"\"\"<div style=\"font-weight:bold;font-family: courier new; color: blue\">{label['name']}</div>\"\"\")\n",
    "   ).add_to(m3)\n",
    "\n",
    "m3\n",
    "m3.save(\"04_add_labels.html\")"
   ]
  }
 ],
 "metadata": {
  "interpreter": {
   "hash": "3067ead486e059ec00ffe7555bdb889e6e264a24dc711bf108106cc7baee8d5d"
  },
  "kernelspec": {
   "display_name": "Python 3.7.6 ('base')",
   "language": "python",
   "name": "python3"
  },
  "language_info": {
   "codemirror_mode": {
    "name": "ipython",
    "version": 3
   },
   "file_extension": ".py",
   "mimetype": "text/x-python",
   "name": "python",
   "nbconvert_exporter": "python",
   "pygments_lexer": "ipython3",
   "version": "3.9.2"
  },
  "orig_nbformat": 4
 },
 "nbformat": 4,
 "nbformat_minor": 2
}
