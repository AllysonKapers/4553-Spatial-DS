{
 "cells": [
  {
   "cell_type": "code",
   "execution_count": 2,
   "metadata": {},
   "outputs": [],
   "source": [
    "import pandas as pd      # the necessary library\n",
    "import json              # json duh\n",
    "from rich import print   # extra python package to giove std output colorful and more readable"
   ]
  },
  {
   "cell_type": "markdown",
   "metadata": {},
   "source": [
    "## Json Into DataFrame\n",
    "\n",
    "Ok, so we have done a crash course about `DataFrames` but we haven't scratched the surface (yet). To read much more, but still condensed you can go here: https://pandas.pydata.org/docs/getting_started/intro_tutorials/01_table_oriented.html\n",
    "\n",
    "For now I want to discuss converting a json file into something a DataFrame can handle. CSV into a dataFrame is really straight forward, but Json is not really setup that way. This isn't always convenient. Most data isn't typically stored this way, but get used to it. Data frames are extremely popular across multiple libraries. Much of your time in the research game will be converting data from on format to another. Whether you are removing anomalies, cleaning up bad values, or altering the format to use for a specific purpose, you will find yourself manipulating data to increase its usability for your purpose. That's what were doing here, taking a somewhat useful Json file and making it fit into a dataFrame. \n",
    "\n",
    "Json is `key:value` pairs and not columnar like dataFrames expect. To fix Json data so that a pandas dataFrame can read it we need to turn all of the `key:values` into parallel lists. Remember parallel arrays from early CS? The image below shows how you can use the same index to access values for a single entity. Entity being (in this case) a persons: `Name`, `Age`, and `Sex`.\n",
    "\n",
    "<img src=\"./images/parallel_arrays.png\" width=\"400\">\n",
    "\n",
    "It is equivalent to the this Json object (ignoring the empty spaces):\n",
    "```json\n",
    "{\n",
    "    \"Name\": [\n",
    "        \"Braund, Mr. Owen Harris\",\n",
    "        \"Allen, Mr. William Henry\",\n",
    "        \"Bonnell, Miss. Elizabeth\",\n",
    "    ],\n",
    "    \"Age\": [22, 35, 58],\n",
    "    \"Sex\": [\"male\", \"male\", \"female\"],\n",
    "}\n",
    "```\n",
    "\n",
    "When using a Python `dictionary of lists`, the dictionary keys will be used as `column headers` and the values in each list are the values placed the `columns` for the `DataFrame`. Given  the following Json object, can we create a copy that will load into a dataFrame? \n",
    "\n",
    "```json\n",
    "[\n",
    "    {\n",
    "        \"city\": \"New York\",\n",
    "        \"growth\": 4.8,\n",
    "        \"latitude\": 40.7127837,\n",
    "        \"longitude\": -74.0059413,\n",
    "        \"population\": 8405837,\n",
    "        \"rank\": 1,\n",
    "        \"state\": \"New York\"\n",
    "    },\n",
    "    {\n",
    "        \"city\": \"Los Angeles\",\n",
    "        \"growth\": 4.8,\n",
    "        \"latitude\": 34.0522342,\n",
    "        \"longitude\": -118.2436849,\n",
    "        \"population\": 3884307,\n",
    "        \"rank\": 2,\n",
    "        \"state\": \"California\"\n",
    "    },\n",
    "    {\n",
    "        \"city\": \"Chicago\",\n",
    "        \"growth\": -6.1,\n",
    "        \"latitude\": 41.8781136,\n",
    "        \"longitude\": -87.6297982,\n",
    "        \"population\": 2718782,\n",
    "        \"rank\": 3,\n",
    "        \"state\": \"Illinois\"\n",
    "    },\n",
    "    ...\n",
    "]\n",
    "```\n",
    "\n",
    "This is found [here](./cities_latlon_w_pop.json) in its full form. Let's start by loading the file:"
   ]
  },
  {
   "cell_type": "code",
   "execution_count": 8,
   "metadata": {},
   "outputs": [
    {
     "data": {
      "text/html": [
       "<pre style=\"white-space:pre;overflow-x:auto;line-height:normal;font-family:Menlo,'DejaVu Sans Mono',consolas,'Courier New',monospace\"><span style=\"font-weight: bold\">[</span>\n",
       "    <span style=\"font-weight: bold\">{</span>\n",
       "        <span style=\"color: #008000; text-decoration-color: #008000\">'city'</span>: <span style=\"color: #008000; text-decoration-color: #008000\">'New York'</span>,\n",
       "        <span style=\"color: #008000; text-decoration-color: #008000\">'growth'</span>: <span style=\"color: #008080; text-decoration-color: #008080; font-weight: bold\">4.8</span>,\n",
       "        <span style=\"color: #008000; text-decoration-color: #008000\">'latitude'</span>: <span style=\"color: #008080; text-decoration-color: #008080; font-weight: bold\">40.7127837</span>,\n",
       "        <span style=\"color: #008000; text-decoration-color: #008000\">'longitude'</span>: <span style=\"color: #008080; text-decoration-color: #008080; font-weight: bold\">-74.0059413</span>,\n",
       "        <span style=\"color: #008000; text-decoration-color: #008000\">'population'</span>: <span style=\"color: #008080; text-decoration-color: #008080; font-weight: bold\">8405837</span>,\n",
       "        <span style=\"color: #008000; text-decoration-color: #008000\">'rank'</span>: <span style=\"color: #008080; text-decoration-color: #008080; font-weight: bold\">1</span>,\n",
       "        <span style=\"color: #008000; text-decoration-color: #008000\">'state'</span>: <span style=\"color: #008000; text-decoration-color: #008000\">'New York'</span>\n",
       "    <span style=\"font-weight: bold\">}</span>,\n",
       "    <span style=\"font-weight: bold\">{</span>\n",
       "        <span style=\"color: #008000; text-decoration-color: #008000\">'city'</span>: <span style=\"color: #008000; text-decoration-color: #008000\">'Los Angeles'</span>,\n",
       "        <span style=\"color: #008000; text-decoration-color: #008000\">'growth'</span>: <span style=\"color: #008080; text-decoration-color: #008080; font-weight: bold\">4.8</span>,\n",
       "        <span style=\"color: #008000; text-decoration-color: #008000\">'latitude'</span>: <span style=\"color: #008080; text-decoration-color: #008080; font-weight: bold\">34.0522342</span>,\n",
       "        <span style=\"color: #008000; text-decoration-color: #008000\">'longitude'</span>: <span style=\"color: #008080; text-decoration-color: #008080; font-weight: bold\">-118.2436849</span>,\n",
       "        <span style=\"color: #008000; text-decoration-color: #008000\">'population'</span>: <span style=\"color: #008080; text-decoration-color: #008080; font-weight: bold\">3884307</span>,\n",
       "        <span style=\"color: #008000; text-decoration-color: #008000\">'rank'</span>: <span style=\"color: #008080; text-decoration-color: #008080; font-weight: bold\">2</span>,\n",
       "        <span style=\"color: #008000; text-decoration-color: #008000\">'state'</span>: <span style=\"color: #008000; text-decoration-color: #008000\">'California'</span>\n",
       "    <span style=\"font-weight: bold\">}</span>,\n",
       "    <span style=\"font-weight: bold\">{</span>\n",
       "        <span style=\"color: #008000; text-decoration-color: #008000\">'city'</span>: <span style=\"color: #008000; text-decoration-color: #008000\">'Chicago'</span>,\n",
       "        <span style=\"color: #008000; text-decoration-color: #008000\">'growth'</span>: <span style=\"color: #008080; text-decoration-color: #008080; font-weight: bold\">-6.1</span>,\n",
       "        <span style=\"color: #008000; text-decoration-color: #008000\">'latitude'</span>: <span style=\"color: #008080; text-decoration-color: #008080; font-weight: bold\">41.8781136</span>,\n",
       "        <span style=\"color: #008000; text-decoration-color: #008000\">'longitude'</span>: <span style=\"color: #008080; text-decoration-color: #008080; font-weight: bold\">-87.6297982</span>,\n",
       "        <span style=\"color: #008000; text-decoration-color: #008000\">'population'</span>: <span style=\"color: #008080; text-decoration-color: #008080; font-weight: bold\">2718782</span>,\n",
       "        <span style=\"color: #008000; text-decoration-color: #008000\">'rank'</span>: <span style=\"color: #008080; text-decoration-color: #008080; font-weight: bold\">3</span>,\n",
       "        <span style=\"color: #008000; text-decoration-color: #008000\">'state'</span>: <span style=\"color: #008000; text-decoration-color: #008000\">'Illinois'</span>\n",
       "    <span style=\"font-weight: bold\">}</span>\n",
       "<span style=\"font-weight: bold\">]</span>\n",
       "</pre>\n"
      ],
      "text/plain": [
       "\u001b[1m[\u001b[0m\n",
       "    \u001b[1m{\u001b[0m\n",
       "        \u001b[32m'city'\u001b[0m: \u001b[32m'New York'\u001b[0m,\n",
       "        \u001b[32m'growth'\u001b[0m: \u001b[1;36m4.8\u001b[0m,\n",
       "        \u001b[32m'latitude'\u001b[0m: \u001b[1;36m40.7127837\u001b[0m,\n",
       "        \u001b[32m'longitude'\u001b[0m: \u001b[1;36m-74.0059413\u001b[0m,\n",
       "        \u001b[32m'population'\u001b[0m: \u001b[1;36m8405837\u001b[0m,\n",
       "        \u001b[32m'rank'\u001b[0m: \u001b[1;36m1\u001b[0m,\n",
       "        \u001b[32m'state'\u001b[0m: \u001b[32m'New York'\u001b[0m\n",
       "    \u001b[1m}\u001b[0m,\n",
       "    \u001b[1m{\u001b[0m\n",
       "        \u001b[32m'city'\u001b[0m: \u001b[32m'Los Angeles'\u001b[0m,\n",
       "        \u001b[32m'growth'\u001b[0m: \u001b[1;36m4.8\u001b[0m,\n",
       "        \u001b[32m'latitude'\u001b[0m: \u001b[1;36m34.0522342\u001b[0m,\n",
       "        \u001b[32m'longitude'\u001b[0m: \u001b[1;36m-118.2436849\u001b[0m,\n",
       "        \u001b[32m'population'\u001b[0m: \u001b[1;36m3884307\u001b[0m,\n",
       "        \u001b[32m'rank'\u001b[0m: \u001b[1;36m2\u001b[0m,\n",
       "        \u001b[32m'state'\u001b[0m: \u001b[32m'California'\u001b[0m\n",
       "    \u001b[1m}\u001b[0m,\n",
       "    \u001b[1m{\u001b[0m\n",
       "        \u001b[32m'city'\u001b[0m: \u001b[32m'Chicago'\u001b[0m,\n",
       "        \u001b[32m'growth'\u001b[0m: \u001b[1;36m-6.1\u001b[0m,\n",
       "        \u001b[32m'latitude'\u001b[0m: \u001b[1;36m41.8781136\u001b[0m,\n",
       "        \u001b[32m'longitude'\u001b[0m: \u001b[1;36m-87.6297982\u001b[0m,\n",
       "        \u001b[32m'population'\u001b[0m: \u001b[1;36m2718782\u001b[0m,\n",
       "        \u001b[32m'rank'\u001b[0m: \u001b[1;36m3\u001b[0m,\n",
       "        \u001b[32m'state'\u001b[0m: \u001b[32m'Illinois'\u001b[0m\n",
       "    \u001b[1m}\u001b[0m\n",
       "\u001b[1m]\u001b[0m\n"
      ]
     },
     "metadata": {},
     "output_type": "display_data"
    }
   ],
   "source": [
    "with open(\"./cities_latlon_w_pop.json\") as f:\n",
    "    cities = json.load(f)\n",
    "\n",
    "# print first 5 cities\n",
    "print(cities[:3])"
   ]
  },
  {
   "cell_type": "markdown",
   "metadata": {},
   "source": [
    "We loaded the data, now let's create a new Json object with the seven parallel arrays needed, one for each of the data elements. The keys are `city`, `growth`, ... `state`. I will grab them programmatically, then  create the parallel array version of the json object.\n"
   ]
  },
  {
   "cell_type": "code",
   "execution_count": 10,
   "metadata": {},
   "outputs": [
    {
     "data": {
      "text/html": [
       "<pre style=\"white-space:pre;overflow-x:auto;line-height:normal;font-family:Menlo,'DejaVu Sans Mono',consolas,'Courier New',monospace\"><span style=\"font-weight: bold\">{</span>\n",
       "    <span style=\"color: #008000; text-decoration-color: #008000\">'city'</span>: <span style=\"font-weight: bold\">[]</span>,\n",
       "    <span style=\"color: #008000; text-decoration-color: #008000\">'growth'</span>: <span style=\"font-weight: bold\">[]</span>,\n",
       "    <span style=\"color: #008000; text-decoration-color: #008000\">'latitude'</span>: <span style=\"font-weight: bold\">[]</span>,\n",
       "    <span style=\"color: #008000; text-decoration-color: #008000\">'longitude'</span>: <span style=\"font-weight: bold\">[]</span>,\n",
       "    <span style=\"color: #008000; text-decoration-color: #008000\">'population'</span>: <span style=\"font-weight: bold\">[]</span>,\n",
       "    <span style=\"color: #008000; text-decoration-color: #008000\">'rank'</span>: <span style=\"font-weight: bold\">[]</span>,\n",
       "    <span style=\"color: #008000; text-decoration-color: #008000\">'state'</span>: <span style=\"font-weight: bold\">[]</span>\n",
       "<span style=\"font-weight: bold\">}</span>\n",
       "</pre>\n"
      ],
      "text/plain": [
       "\u001b[1m{\u001b[0m\n",
       "    \u001b[32m'city'\u001b[0m: \u001b[1m[\u001b[0m\u001b[1m]\u001b[0m,\n",
       "    \u001b[32m'growth'\u001b[0m: \u001b[1m[\u001b[0m\u001b[1m]\u001b[0m,\n",
       "    \u001b[32m'latitude'\u001b[0m: \u001b[1m[\u001b[0m\u001b[1m]\u001b[0m,\n",
       "    \u001b[32m'longitude'\u001b[0m: \u001b[1m[\u001b[0m\u001b[1m]\u001b[0m,\n",
       "    \u001b[32m'population'\u001b[0m: \u001b[1m[\u001b[0m\u001b[1m]\u001b[0m,\n",
       "    \u001b[32m'rank'\u001b[0m: \u001b[1m[\u001b[0m\u001b[1m]\u001b[0m,\n",
       "    \u001b[32m'state'\u001b[0m: \u001b[1m[\u001b[0m\u001b[1m]\u001b[0m\n",
       "\u001b[1m}\u001b[0m\n"
      ]
     },
     "metadata": {},
     "output_type": "display_data"
    }
   ],
   "source": [
    "# grab keys from 1st entry\n",
    "keys = cities[0].keys()\n",
    "\n",
    "# create a new dictionary (synonymous with json)\n",
    "cities2 = {}\n",
    "\n",
    "# iterate over keys and create a list for every key\n",
    "for key in keys:\n",
    "    cities2[key] = []\n",
    "\n",
    "# Note: the keys may not print in the same order you added them. \n",
    "# This is ok behavior since dictionaries are not ordered.\n",
    "print(cities2)"
   ]
  },
  {
   "cell_type": "markdown",
   "metadata": {},
   "source": [
    "Now we have the new structure, lets load it up:"
   ]
  },
  {
   "cell_type": "code",
   "execution_count": 19,
   "metadata": {},
   "outputs": [
    {
     "data": {
      "text/html": [
       "<pre style=\"white-space:pre;overflow-x:auto;line-height:normal;font-family:Menlo,'DejaVu Sans Mono',consolas,'Courier New',monospace\"><span style=\"font-weight: bold\">[</span><span style=\"color: #008000; text-decoration-color: #008000\">'New York'</span>, <span style=\"color: #008000; text-decoration-color: #008000\">'Los Angeles'</span>, <span style=\"color: #008000; text-decoration-color: #008000\">'Chicago'</span>, <span style=\"color: #008000; text-decoration-color: #008000\">'Houston'</span>, <span style=\"color: #008000; text-decoration-color: #008000\">'Philadelphia'</span><span style=\"font-weight: bold\">]</span>\n",
       "</pre>\n"
      ],
      "text/plain": [
       "\u001b[1m[\u001b[0m\u001b[32m'New York'\u001b[0m, \u001b[32m'Los Angeles'\u001b[0m, \u001b[32m'Chicago'\u001b[0m, \u001b[32m'Houston'\u001b[0m, \u001b[32m'Philadelphia'\u001b[0m\u001b[1m]\u001b[0m\n"
      ]
     },
     "metadata": {},
     "output_type": "display_data"
    },
    {
     "data": {
      "text/html": [
       "<pre style=\"white-space:pre;overflow-x:auto;line-height:normal;font-family:Menlo,'DejaVu Sans Mono',consolas,'Courier New',monospace\"><span style=\"font-weight: bold\">[</span><span style=\"color: #008080; text-decoration-color: #008080; font-weight: bold\">4.8</span>, <span style=\"color: #008080; text-decoration-color: #008080; font-weight: bold\">4.8</span>, <span style=\"color: #008080; text-decoration-color: #008080; font-weight: bold\">-6.1</span>, <span style=\"color: #008080; text-decoration-color: #008080; font-weight: bold\">11</span>, <span style=\"color: #008080; text-decoration-color: #008080; font-weight: bold\">2.6</span><span style=\"font-weight: bold\">]</span>\n",
       "</pre>\n"
      ],
      "text/plain": [
       "\u001b[1m[\u001b[0m\u001b[1;36m4.8\u001b[0m, \u001b[1;36m4.8\u001b[0m, \u001b[1;36m-6.1\u001b[0m, \u001b[1;36m11\u001b[0m, \u001b[1;36m2.6\u001b[0m\u001b[1m]\u001b[0m\n"
      ]
     },
     "metadata": {},
     "output_type": "display_data"
    },
    {
     "data": {
      "text/html": [
       "<pre style=\"white-space:pre;overflow-x:auto;line-height:normal;font-family:Menlo,'DejaVu Sans Mono',consolas,'Courier New',monospace\"><span style=\"font-weight: bold\">[</span><span style=\"color: #008080; text-decoration-color: #008080; font-weight: bold\">40.7127837</span>, <span style=\"color: #008080; text-decoration-color: #008080; font-weight: bold\">34.0522342</span>, <span style=\"color: #008080; text-decoration-color: #008080; font-weight: bold\">41.8781136</span>, <span style=\"color: #008080; text-decoration-color: #008080; font-weight: bold\">29.7604267</span>, <span style=\"color: #008080; text-decoration-color: #008080; font-weight: bold\">39.9525839</span><span style=\"font-weight: bold\">]</span>\n",
       "</pre>\n"
      ],
      "text/plain": [
       "\u001b[1m[\u001b[0m\u001b[1;36m40.7127837\u001b[0m, \u001b[1;36m34.0522342\u001b[0m, \u001b[1;36m41.8781136\u001b[0m, \u001b[1;36m29.7604267\u001b[0m, \u001b[1;36m39.9525839\u001b[0m\u001b[1m]\u001b[0m\n"
      ]
     },
     "metadata": {},
     "output_type": "display_data"
    },
    {
     "data": {
      "text/html": [
       "<pre style=\"white-space:pre;overflow-x:auto;line-height:normal;font-family:Menlo,'DejaVu Sans Mono',consolas,'Courier New',monospace\"><span style=\"font-weight: bold\">[</span><span style=\"color: #008080; text-decoration-color: #008080; font-weight: bold\">-74.0059413</span>, <span style=\"color: #008080; text-decoration-color: #008080; font-weight: bold\">-118.2436849</span>, <span style=\"color: #008080; text-decoration-color: #008080; font-weight: bold\">-87.6297982</span>, <span style=\"color: #008080; text-decoration-color: #008080; font-weight: bold\">-95.3698028</span>, <span style=\"color: #008080; text-decoration-color: #008080; font-weight: bold\">-75.1652215</span><span style=\"font-weight: bold\">]</span>\n",
       "</pre>\n"
      ],
      "text/plain": [
       "\u001b[1m[\u001b[0m\u001b[1;36m-74.0059413\u001b[0m, \u001b[1;36m-118.2436849\u001b[0m, \u001b[1;36m-87.6297982\u001b[0m, \u001b[1;36m-95.3698028\u001b[0m, \u001b[1;36m-75.1652215\u001b[0m\u001b[1m]\u001b[0m\n"
      ]
     },
     "metadata": {},
     "output_type": "display_data"
    },
    {
     "data": {
      "text/html": [
       "<pre style=\"white-space:pre;overflow-x:auto;line-height:normal;font-family:Menlo,'DejaVu Sans Mono',consolas,'Courier New',monospace\"><span style=\"font-weight: bold\">[</span><span style=\"color: #008080; text-decoration-color: #008080; font-weight: bold\">8405837</span>, <span style=\"color: #008080; text-decoration-color: #008080; font-weight: bold\">3884307</span>, <span style=\"color: #008080; text-decoration-color: #008080; font-weight: bold\">2718782</span>, <span style=\"color: #008080; text-decoration-color: #008080; font-weight: bold\">2195914</span>, <span style=\"color: #008080; text-decoration-color: #008080; font-weight: bold\">1553165</span><span style=\"font-weight: bold\">]</span>\n",
       "</pre>\n"
      ],
      "text/plain": [
       "\u001b[1m[\u001b[0m\u001b[1;36m8405837\u001b[0m, \u001b[1;36m3884307\u001b[0m, \u001b[1;36m2718782\u001b[0m, \u001b[1;36m2195914\u001b[0m, \u001b[1;36m1553165\u001b[0m\u001b[1m]\u001b[0m\n"
      ]
     },
     "metadata": {},
     "output_type": "display_data"
    },
    {
     "data": {
      "text/html": [
       "<pre style=\"white-space:pre;overflow-x:auto;line-height:normal;font-family:Menlo,'DejaVu Sans Mono',consolas,'Courier New',monospace\"><span style=\"font-weight: bold\">[</span><span style=\"color: #008080; text-decoration-color: #008080; font-weight: bold\">1</span>, <span style=\"color: #008080; text-decoration-color: #008080; font-weight: bold\">2</span>, <span style=\"color: #008080; text-decoration-color: #008080; font-weight: bold\">3</span>, <span style=\"color: #008080; text-decoration-color: #008080; font-weight: bold\">4</span>, <span style=\"color: #008080; text-decoration-color: #008080; font-weight: bold\">5</span><span style=\"font-weight: bold\">]</span>\n",
       "</pre>\n"
      ],
      "text/plain": [
       "\u001b[1m[\u001b[0m\u001b[1;36m1\u001b[0m, \u001b[1;36m2\u001b[0m, \u001b[1;36m3\u001b[0m, \u001b[1;36m4\u001b[0m, \u001b[1;36m5\u001b[0m\u001b[1m]\u001b[0m\n"
      ]
     },
     "metadata": {},
     "output_type": "display_data"
    },
    {
     "data": {
      "text/html": [
       "<pre style=\"white-space:pre;overflow-x:auto;line-height:normal;font-family:Menlo,'DejaVu Sans Mono',consolas,'Courier New',monospace\"><span style=\"font-weight: bold\">[</span><span style=\"color: #008000; text-decoration-color: #008000\">'New York'</span>, <span style=\"color: #008000; text-decoration-color: #008000\">'California'</span>, <span style=\"color: #008000; text-decoration-color: #008000\">'Illinois'</span>, <span style=\"color: #008000; text-decoration-color: #008000\">'Texas'</span>, <span style=\"color: #008000; text-decoration-color: #008000\">'Pennsylvania'</span><span style=\"font-weight: bold\">]</span>\n",
       "</pre>\n"
      ],
      "text/plain": [
       "\u001b[1m[\u001b[0m\u001b[32m'New York'\u001b[0m, \u001b[32m'California'\u001b[0m, \u001b[32m'Illinois'\u001b[0m, \u001b[32m'Texas'\u001b[0m, \u001b[32m'Pennsylvania'\u001b[0m\u001b[1m]\u001b[0m\n"
      ]
     },
     "metadata": {},
     "output_type": "display_data"
    }
   ],
   "source": [
    "for city in cities:\n",
    "    for key in city:\n",
    "        cities2[key].append(city[key])\n",
    "\n",
    "for key in cities2:\n",
    "    print(cities2[key][:5])\n"
   ]
  },
  {
   "cell_type": "markdown",
   "metadata": {},
   "source": [
    "Now we can load it into a dataFrame no problem! "
   ]
  },
  {
   "cell_type": "code",
   "execution_count": 21,
   "metadata": {},
   "outputs": [
    {
     "data": {
      "text/html": [
       "<pre style=\"white-space:pre;overflow-x:auto;line-height:normal;font-family:Menlo,'DejaVu Sans Mono',consolas,'Courier New',monospace\">              city  growth   latitude   longitude  population  rank  \\\n",
       "<span style=\"color: #008080; text-decoration-color: #008080; font-weight: bold\">0</span>         New York     <span style=\"color: #008080; text-decoration-color: #008080; font-weight: bold\">4.8</span>  <span style=\"color: #008080; text-decoration-color: #008080; font-weight: bold\">40.712784</span>  <span style=\"color: #008080; text-decoration-color: #008080; font-weight: bold\">-74.005941</span>     <span style=\"color: #008080; text-decoration-color: #008080; font-weight: bold\">8405837</span>     <span style=\"color: #008080; text-decoration-color: #008080; font-weight: bold\">1</span>   \n",
       "<span style=\"color: #008080; text-decoration-color: #008080; font-weight: bold\">1</span>      Los Angeles     <span style=\"color: #008080; text-decoration-color: #008080; font-weight: bold\">4.8</span>  <span style=\"color: #008080; text-decoration-color: #008080; font-weight: bold\">34.052234</span> <span style=\"color: #008080; text-decoration-color: #008080; font-weight: bold\">-118.243685</span>     <span style=\"color: #008080; text-decoration-color: #008080; font-weight: bold\">3884307</span>     <span style=\"color: #008080; text-decoration-color: #008080; font-weight: bold\">2</span>   \n",
       "<span style=\"color: #008080; text-decoration-color: #008080; font-weight: bold\">2</span>          Chicago    <span style=\"color: #008080; text-decoration-color: #008080; font-weight: bold\">-6.1</span>  <span style=\"color: #008080; text-decoration-color: #008080; font-weight: bold\">41.878114</span>  <span style=\"color: #008080; text-decoration-color: #008080; font-weight: bold\">-87.629798</span>     <span style=\"color: #008080; text-decoration-color: #008080; font-weight: bold\">2718782</span>     <span style=\"color: #008080; text-decoration-color: #008080; font-weight: bold\">3</span>   \n",
       "<span style=\"color: #008080; text-decoration-color: #008080; font-weight: bold\">3</span>          Houston    <span style=\"color: #008080; text-decoration-color: #008080; font-weight: bold\">11.0</span>  <span style=\"color: #008080; text-decoration-color: #008080; font-weight: bold\">29.760427</span>  <span style=\"color: #008080; text-decoration-color: #008080; font-weight: bold\">-95.369803</span>     <span style=\"color: #008080; text-decoration-color: #008080; font-weight: bold\">2195914</span>     <span style=\"color: #008080; text-decoration-color: #008080; font-weight: bold\">4</span>   \n",
       "<span style=\"color: #008080; text-decoration-color: #008080; font-weight: bold\">4</span>     Philadelphia     <span style=\"color: #008080; text-decoration-color: #008080; font-weight: bold\">2.6</span>  <span style=\"color: #008080; text-decoration-color: #008080; font-weight: bold\">39.952584</span>  <span style=\"color: #008080; text-decoration-color: #008080; font-weight: bold\">-75.165222</span>     <span style=\"color: #008080; text-decoration-color: #008080; font-weight: bold\">1553165</span>     <span style=\"color: #008080; text-decoration-color: #008080; font-weight: bold\">5</span>   \n",
       "<span style=\"color: #808000; text-decoration-color: #808000\">...</span>            <span style=\"color: #808000; text-decoration-color: #808000\">...</span>     <span style=\"color: #808000; text-decoration-color: #808000\">...</span>        <span style=\"color: #808000; text-decoration-color: #808000\">...</span>         <span style=\"color: #808000; text-decoration-color: #808000\">...</span>         <span style=\"color: #808000; text-decoration-color: #808000\">...</span>   <span style=\"color: #808000; text-decoration-color: #808000\">...</span>   \n",
       "<span style=\"color: #008080; text-decoration-color: #008080; font-weight: bold\">7995</span>  Spanish Fork    <span style=\"color: #008080; text-decoration-color: #008080; font-weight: bold\">78.1</span>  <span style=\"color: #008080; text-decoration-color: #008080; font-weight: bold\">40.114955</span> <span style=\"color: #008080; text-decoration-color: #008080; font-weight: bold\">-111.654923</span>       <span style=\"color: #008080; text-decoration-color: #008080; font-weight: bold\">36956</span>   <span style=\"color: #008080; text-decoration-color: #008080; font-weight: bold\">998</span>   \n",
       "<span style=\"color: #008080; text-decoration-color: #008080; font-weight: bold\">7996</span>        Beloit     <span style=\"color: #008080; text-decoration-color: #008080; font-weight: bold\">2.9</span>  <span style=\"color: #008080; text-decoration-color: #008080; font-weight: bold\">42.508348</span>  <span style=\"color: #008080; text-decoration-color: #008080; font-weight: bold\">-89.031776</span>       <span style=\"color: #008080; text-decoration-color: #008080; font-weight: bold\">36888</span>   <span style=\"color: #008080; text-decoration-color: #008080; font-weight: bold\">999</span>   \n",
       "<span style=\"color: #008080; text-decoration-color: #008080; font-weight: bold\">7997</span>   Panama City     <span style=\"color: #008080; text-decoration-color: #008080; font-weight: bold\">0.1</span>  <span style=\"color: #008080; text-decoration-color: #008080; font-weight: bold\">30.158813</span>  <span style=\"color: #008080; text-decoration-color: #008080; font-weight: bold\">-85.660206</span>       <span style=\"color: #008080; text-decoration-color: #008080; font-weight: bold\">36877</span>  <span style=\"color: #008080; text-decoration-color: #008080; font-weight: bold\">1000</span>   \n",
       "<span style=\"color: #008080; text-decoration-color: #008080; font-weight: bold\">7998</span>     Anchorage    <span style=\"color: #008080; text-decoration-color: #008080; font-weight: bold\">15.4</span>  <span style=\"color: #008080; text-decoration-color: #008080; font-weight: bold\">61.218056</span> <span style=\"color: #008080; text-decoration-color: #008080; font-weight: bold\">-149.900278</span>      <span style=\"color: #008080; text-decoration-color: #008080; font-weight: bold\">300950</span>    <span style=\"color: #008080; text-decoration-color: #008080; font-weight: bold\">63</span>   \n",
       "<span style=\"color: #008080; text-decoration-color: #008080; font-weight: bold\">7999</span>      Honolulu    <span style=\"color: #008080; text-decoration-color: #008080; font-weight: bold\">-6.2</span>  <span style=\"color: #008080; text-decoration-color: #008080; font-weight: bold\">21.306944</span> <span style=\"color: #008080; text-decoration-color: #008080; font-weight: bold\">-157.858333</span>      <span style=\"color: #008080; text-decoration-color: #008080; font-weight: bold\">347884</span>    <span style=\"color: #008080; text-decoration-color: #008080; font-weight: bold\">54</span>   \n",
       "\n",
       "             state  \n",
       "<span style=\"color: #008080; text-decoration-color: #008080; font-weight: bold\">0</span>         New York  \n",
       "<span style=\"color: #008080; text-decoration-color: #008080; font-weight: bold\">1</span>       California  \n",
       "<span style=\"color: #008080; text-decoration-color: #008080; font-weight: bold\">2</span>         Illinois  \n",
       "<span style=\"color: #008080; text-decoration-color: #008080; font-weight: bold\">3</span>            Texas  \n",
       "<span style=\"color: #008080; text-decoration-color: #008080; font-weight: bold\">4</span>     Pennsylvania  \n",
       "<span style=\"color: #808000; text-decoration-color: #808000\">...</span>            <span style=\"color: #808000; text-decoration-color: #808000\">...</span>  \n",
       "<span style=\"color: #008080; text-decoration-color: #008080; font-weight: bold\">7995</span>          Utah  \n",
       "<span style=\"color: #008080; text-decoration-color: #008080; font-weight: bold\">7996</span>     Wisconsin  \n",
       "<span style=\"color: #008080; text-decoration-color: #008080; font-weight: bold\">7997</span>       Florida  \n",
       "<span style=\"color: #008080; text-decoration-color: #008080; font-weight: bold\">7998</span>        Alaska  \n",
       "<span style=\"color: #008080; text-decoration-color: #008080; font-weight: bold\">7999</span>        Hawaii  \n",
       "\n",
       "<span style=\"font-weight: bold\">[</span><span style=\"color: #008080; text-decoration-color: #008080; font-weight: bold\">8000</span> rows x <span style=\"color: #008080; text-decoration-color: #008080; font-weight: bold\">7</span> columns<span style=\"font-weight: bold\">]</span>\n",
       "</pre>\n"
      ],
      "text/plain": [
       "              city  growth   latitude   longitude  population  rank  \\\n",
       "\u001b[1;36m0\u001b[0m         New York     \u001b[1;36m4.8\u001b[0m  \u001b[1;36m40.712784\u001b[0m  \u001b[1;36m-74.005941\u001b[0m     \u001b[1;36m8405837\u001b[0m     \u001b[1;36m1\u001b[0m   \n",
       "\u001b[1;36m1\u001b[0m      Los Angeles     \u001b[1;36m4.8\u001b[0m  \u001b[1;36m34.052234\u001b[0m \u001b[1;36m-118.243685\u001b[0m     \u001b[1;36m3884307\u001b[0m     \u001b[1;36m2\u001b[0m   \n",
       "\u001b[1;36m2\u001b[0m          Chicago    \u001b[1;36m-6.1\u001b[0m  \u001b[1;36m41.878114\u001b[0m  \u001b[1;36m-87.629798\u001b[0m     \u001b[1;36m2718782\u001b[0m     \u001b[1;36m3\u001b[0m   \n",
       "\u001b[1;36m3\u001b[0m          Houston    \u001b[1;36m11.0\u001b[0m  \u001b[1;36m29.760427\u001b[0m  \u001b[1;36m-95.369803\u001b[0m     \u001b[1;36m2195914\u001b[0m     \u001b[1;36m4\u001b[0m   \n",
       "\u001b[1;36m4\u001b[0m     Philadelphia     \u001b[1;36m2.6\u001b[0m  \u001b[1;36m39.952584\u001b[0m  \u001b[1;36m-75.165222\u001b[0m     \u001b[1;36m1553165\u001b[0m     \u001b[1;36m5\u001b[0m   \n",
       "\u001b[33m...\u001b[0m            \u001b[33m...\u001b[0m     \u001b[33m...\u001b[0m        \u001b[33m...\u001b[0m         \u001b[33m...\u001b[0m         \u001b[33m...\u001b[0m   \u001b[33m...\u001b[0m   \n",
       "\u001b[1;36m7995\u001b[0m  Spanish Fork    \u001b[1;36m78.1\u001b[0m  \u001b[1;36m40.114955\u001b[0m \u001b[1;36m-111.654923\u001b[0m       \u001b[1;36m36956\u001b[0m   \u001b[1;36m998\u001b[0m   \n",
       "\u001b[1;36m7996\u001b[0m        Beloit     \u001b[1;36m2.9\u001b[0m  \u001b[1;36m42.508348\u001b[0m  \u001b[1;36m-89.031776\u001b[0m       \u001b[1;36m36888\u001b[0m   \u001b[1;36m999\u001b[0m   \n",
       "\u001b[1;36m7997\u001b[0m   Panama City     \u001b[1;36m0.1\u001b[0m  \u001b[1;36m30.158813\u001b[0m  \u001b[1;36m-85.660206\u001b[0m       \u001b[1;36m36877\u001b[0m  \u001b[1;36m1000\u001b[0m   \n",
       "\u001b[1;36m7998\u001b[0m     Anchorage    \u001b[1;36m15.4\u001b[0m  \u001b[1;36m61.218056\u001b[0m \u001b[1;36m-149.900278\u001b[0m      \u001b[1;36m300950\u001b[0m    \u001b[1;36m63\u001b[0m   \n",
       "\u001b[1;36m7999\u001b[0m      Honolulu    \u001b[1;36m-6.2\u001b[0m  \u001b[1;36m21.306944\u001b[0m \u001b[1;36m-157.858333\u001b[0m      \u001b[1;36m347884\u001b[0m    \u001b[1;36m54\u001b[0m   \n",
       "\n",
       "             state  \n",
       "\u001b[1;36m0\u001b[0m         New York  \n",
       "\u001b[1;36m1\u001b[0m       California  \n",
       "\u001b[1;36m2\u001b[0m         Illinois  \n",
       "\u001b[1;36m3\u001b[0m            Texas  \n",
       "\u001b[1;36m4\u001b[0m     Pennsylvania  \n",
       "\u001b[33m...\u001b[0m            \u001b[33m...\u001b[0m  \n",
       "\u001b[1;36m7995\u001b[0m          Utah  \n",
       "\u001b[1;36m7996\u001b[0m     Wisconsin  \n",
       "\u001b[1;36m7997\u001b[0m       Florida  \n",
       "\u001b[1;36m7998\u001b[0m        Alaska  \n",
       "\u001b[1;36m7999\u001b[0m        Hawaii  \n",
       "\n",
       "\u001b[1m[\u001b[0m\u001b[1;36m8000\u001b[0m rows x \u001b[1;36m7\u001b[0m columns\u001b[1m]\u001b[0m\n"
      ]
     },
     "metadata": {},
     "output_type": "display_data"
    }
   ],
   "source": [
    "df = pd.DataFrame(cities2)\n",
    "print(df)"
   ]
  }
 ],
 "metadata": {
  "interpreter": {
   "hash": "aee8b7b246df8f9039afb4144a1f6fd8d2ca17a180786b69acc140d282b71a49"
  },
  "kernelspec": {
   "display_name": "Python 3.9.2 64-bit",
   "language": "python",
   "name": "python3"
  },
  "language_info": {
   "codemirror_mode": {
    "name": "ipython",
    "version": 3
   },
   "file_extension": ".py",
   "mimetype": "text/x-python",
   "name": "python",
   "nbconvert_exporter": "python",
   "pygments_lexer": "ipython3",
   "version": "3.9.2"
  },
  "orig_nbformat": 4
 },
 "nbformat": 4,
 "nbformat_minor": 2
}
