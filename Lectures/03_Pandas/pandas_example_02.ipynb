{
 "cells": [
  {
   "cell_type": "code",
   "execution_count": 5,
   "metadata": {},
   "outputs": [],
   "source": [
    "import pandas as pd      # the necessary library\n",
    "from rich import print   # extra python package to giove std output colorful and more readable"
   ]
  },
  {
   "cell_type": "markdown",
   "metadata": {},
   "source": [
    "## Json Into DataFrame\n",
    "\n",
    "Ok, so we have done a crash course about `DataFrames` but we haven't scratched the surface (yet). To read much more, but still condensed you can go here: https://pandas.pydata.org/docs/getting_started/intro_tutorials/01_table_oriented.html\n",
    "\n",
    "For now I want to discuss converting a json file into something a DataFrame can handle. CSV into a dataFrame is really straight forward, but Json is not really setup that way. Much of your time in the research game will be converting data from on format to another. Whether you are removing anomalies, cleaning up bad values, or altering the format to use for a specific purpose, you will find yourself manipulating data to increase its usability for your purpose. That's what were doing here, taking a somewhat useful Json file and making it fit into a dataFrame.\n",
    "\n",
    "Json is `key:value` pairs and not columnar like dataFrames expect. To fix Json data so that a pandas dataFrame can read it we need to turn all of the `key:values` into parallel lists. Remember parallel arrays from early CS? The image below shows how you can use the same index to access values for a single entity. Entity being (in this case) a persons: `Name`, `Age`, and `Sex`.\n",
    "\n",
    "<img src=\"./images/parallel_arrays.png\" width=\"600\">\n",
    "\n",
    "It is equivalent to the this Json object:\n",
    "```json\n",
    "{\n",
    "    \"Name\": [\n",
    "        \"Braund, Mr. Owen Harris\",\n",
    "        \"Allen, Mr. William Henry\",\n",
    "        \"Bonnell, Miss. Elizabeth\",\n",
    "    ],\n",
    "    \"Age\": [22, 35, 58],\n",
    "    \"Sex\": [\"male\", \"male\", \"female\"],\n",
    "}\n",
    "```\n",
    "\n",
    "When using a Python dictionary of lists, the dictionary keys will be used as column headers and the values in each list as columns of the DataFrame. "
   ]
  },
  {
   "cell_type": "code",
   "execution_count": 3,
   "metadata": {},
   "outputs": [
    {
     "data": {
      "text/html": [
       "<pre style=\"white-space:pre;overflow-x:auto;line-height:normal;font-family:Menlo,'DejaVu Sans Mono',consolas,'Courier New',monospace\">                       Name  Age     Sex\n",
       "<span style=\"color: #008080; text-decoration-color: #008080; font-weight: bold\">0</span>   Braund, Mr. Owen Harris   <span style=\"color: #008080; text-decoration-color: #008080; font-weight: bold\">22</span>    male\n",
       "<span style=\"color: #008080; text-decoration-color: #008080; font-weight: bold\">1</span>  Allen, Mr. William Henry   <span style=\"color: #008080; text-decoration-color: #008080; font-weight: bold\">35</span>    male\n",
       "<span style=\"color: #008080; text-decoration-color: #008080; font-weight: bold\">2</span>  Bonnell, Miss. Elizabeth   <span style=\"color: #008080; text-decoration-color: #008080; font-weight: bold\">58</span>  female\n",
       "</pre>\n"
      ],
      "text/plain": [
       "                       Name  Age     Sex\n",
       "\u001b[1;36m0\u001b[0m   Braund, Mr. Owen Harris   \u001b[1;36m22\u001b[0m    male\n",
       "\u001b[1;36m1\u001b[0m  Allen, Mr. William Henry   \u001b[1;36m35\u001b[0m    male\n",
       "\u001b[1;36m2\u001b[0m  Bonnell, Miss. Elizabeth   \u001b[1;36m58\u001b[0m  female\n"
      ]
     },
     "metadata": {},
     "output_type": "display_data"
    }
   ],
   "source": [
    "df = pd.DataFrame(\n",
    "    {\n",
    "        \"Name\": [\n",
    "            \"Braund, Mr. Owen Harris\",\n",
    "            \"Allen, Mr. William Henry\",\n",
    "            \"Bonnell, Miss. Elizabeth\",\n",
    "        ],\n",
    "        \"Age\": [22, 35, 58],\n",
    "        \"Sex\": [\"male\", \"male\", \"female\"],\n",
    "    }\n",
    ")\n",
    "\n",
    "print(df)"
   ]
  },
  {
   "cell_type": "markdown",
   "metadata": {},
   "source": [
    "This isn't always convenient. Most data isn't typically stored this way, but get used to it. Data frames are extremely popular across multiple libraries. Let's convert "
   ]
  }
 ],
 "metadata": {
  "interpreter": {
   "hash": "aee8b7b246df8f9039afb4144a1f6fd8d2ca17a180786b69acc140d282b71a49"
  },
  "kernelspec": {
   "display_name": "Python 3.9.2 64-bit",
   "language": "python",
   "name": "python3"
  },
  "language_info": {
   "codemirror_mode": {
    "name": "ipython",
    "version": 3
   },
   "file_extension": ".py",
   "mimetype": "text/x-python",
   "name": "python",
   "nbconvert_exporter": "python",
   "pygments_lexer": "ipython3",
   "version": "3.9.2"
  },
  "orig_nbformat": 4
 },
 "nbformat": 4,
 "nbformat_minor": 2
}
