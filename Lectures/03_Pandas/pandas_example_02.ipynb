{
 "cells": [
  {
   "cell_type": "code",
   "execution_count": 2,
   "metadata": {},
   "outputs": [],
   "source": [
    "import pandas as pd      # the necessary library\n",
    "import json              # json duh\n",
    "from rich import print   # extra python package to giove std output colorful and more readable"
   ]
  },
  {
   "cell_type": "markdown",
   "metadata": {},
   "source": [
    "## Json Into DataFrame\n",
    "\n",
    "Ok, so we have done a crash course about `DataFrames` but we haven't scratched the surface (yet). To read much more, but still condensed you can go here: https://pandas.pydata.org/docs/getting_started/intro_tutorials/01_table_oriented.html\n",
    "\n",
    "For now I want to discuss converting a json file into something a DataFrame can handle. CSV into a dataFrame is really straight forward, but Json is not really setup that way. This isn't always convenient. Most data isn't typically stored this way, but get used to it. Data frames are extremely popular across multiple libraries. Much of your time in the research game will be converting data from on format to another. Whether you are removing anomalies, cleaning up bad values, or altering the format to use for a specific purpose, you will find yourself manipulating data to increase its usability for your purpose. That's what were doing here, taking a somewhat useful Json file and making it fit into a dataFrame. \n",
    "\n",
    "Json is `key:value` pairs and not columnar like dataFrames expect. To fix Json data so that a pandas dataFrame can read it we need to turn all of the `key:values` into parallel lists. Remember parallel arrays from early CS? The image below shows how you can use the same index to access values for a single entity. Entity being (in this case) a persons: `Name`, `Age`, and `Sex`.\n",
    "\n",
    "<img src=\"./images/parallel_arrays.png\" width=\"400\">\n",
    "\n",
    "It is equivalent to the this Json object (ignoring the empty spaces):\n",
    "```json\n",
    "{\n",
    "    \"Name\": [\n",
    "        \"Braund, Mr. Owen Harris\",\n",
    "        \"Allen, Mr. William Henry\",\n",
    "        \"Bonnell, Miss. Elizabeth\",\n",
    "    ],\n",
    "    \"Age\": [22, 35, 58],\n",
    "    \"Sex\": [\"male\", \"male\", \"female\"],\n",
    "}\n",
    "```\n",
    "\n",
    "When using a Python `dictionary of lists`, the dictionary keys will be used as `column headers` and the values in each list are the values placed the `columns` for the `DataFrame`. Given  the following Json object, can we create a copy that will load into a dataFrame? \n",
    "\n",
    "```json\n",
    "[\n",
    "    {\n",
    "        \"city\": \"New York\",\n",
    "        \"growth\": 4.8,\n",
    "        \"latitude\": 40.7127837,\n",
    "        \"longitude\": -74.0059413,\n",
    "        \"population\": 8405837,\n",
    "        \"rank\": 1,\n",
    "        \"state\": \"New York\"\n",
    "    },\n",
    "    {\n",
    "        \"city\": \"Los Angeles\",\n",
    "        \"growth\": 4.8,\n",
    "        \"latitude\": 34.0522342,\n",
    "        \"longitude\": -118.2436849,\n",
    "        \"population\": 3884307,\n",
    "        \"rank\": 2,\n",
    "        \"state\": \"California\"\n",
    "    },\n",
    "    {\n",
    "        \"city\": \"Chicago\",\n",
    "        \"growth\": -6.1,\n",
    "        \"latitude\": 41.8781136,\n",
    "        \"longitude\": -87.6297982,\n",
    "        \"population\": 2718782,\n",
    "        \"rank\": 3,\n",
    "        \"state\": \"Illinois\"\n",
    "    },\n",
    "    ...\n",
    "]\n",
    "```\n",
    "\n",
    "This is found [here](./cities_latlon_w_pop.json) in its full form. Let's start by loading the file:"
   ]
  },
  {
   "cell_type": "code",
   "execution_count": null,
   "metadata": {},
   "outputs": [],
   "source": [
    "with open(\"./cities_latlon_w_pop.json\") as f:\n",
    "    cities = json.load(f)\n",
    "\n",
    "# print first 5 cities\n",
    "print(cities[:3])"
   ]
  },
  {
   "cell_type": "markdown",
   "metadata": {},
   "source": [
    "We loaded the data, now let's create a new Json object with the seven parallel arrays needed, one for each of the data elements. The keys are `city`, `growth`, ... `state`. I will grab them programmatically, then  create the parallel array version of the json object.\n"
   ]
  },
  {
   "cell_type": "code",
   "execution_count": null,
   "metadata": {},
   "outputs": [],
   "source": [
    "# grab keys from 1st entry\n",
    "keys = cities[0].keys()\n",
    "\n",
    "# create a new dictionary (synonymous with json)\n",
    "cities2 = {}\n",
    "\n",
    "# iterate over keys and create a list for every key\n",
    "for key in keys:\n",
    "    cities2[key] = []\n",
    "\n",
    "# Note: the keys may not print in the same order you added them. \n",
    "# This is ok behavior since dictionaries are not ordered.\n",
    "print(cities2)"
   ]
  },
  {
   "cell_type": "markdown",
   "metadata": {},
   "source": [
    "Now we have the new structure, lets load it up:"
   ]
  },
  {
   "cell_type": "code",
   "execution_count": null,
   "metadata": {},
   "outputs": [],
   "source": [
    "for city in cities:\n",
    "    for key in city:\n",
    "        cities2[key].append(city[key])\n",
    "\n",
    "for key in cities2:\n",
    "    print(cities2[key][:5])\n"
   ]
  },
  {
   "cell_type": "markdown",
   "metadata": {},
   "source": [
    "Now we can load it into a dataFrame no problem! "
   ]
  },
  {
   "cell_type": "code",
   "execution_count": null,
   "metadata": {},
   "outputs": [],
   "source": [
    "df = pd.DataFrame(cities2)\n",
    "print(df)"
   ]
  }
 ],
 "metadata": {
  "interpreter": {
   "hash": "aee8b7b246df8f9039afb4144a1f6fd8d2ca17a180786b69acc140d282b71a49"
  },
  "kernelspec": {
   "display_name": "Python 3.9.2 64-bit",
   "language": "python",
   "name": "python3"
  },
  "language_info": {
   "codemirror_mode": {
    "name": "ipython",
    "version": 3
   },
   "file_extension": ".py",
   "mimetype": "text/x-python",
   "name": "python",
   "nbconvert_exporter": "python",
   "pygments_lexer": "ipython3",
   "version": "3.9.2"
  },
  "orig_nbformat": 4
 },
 "nbformat": 4,
 "nbformat_minor": 2
}
