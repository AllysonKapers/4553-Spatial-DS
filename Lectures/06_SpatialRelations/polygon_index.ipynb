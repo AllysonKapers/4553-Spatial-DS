{
 "cells": [
  {
   "cell_type": "code",
   "execution_count": 117,
   "metadata": {},
   "outputs": [],
   "source": [
    "import geopandas\n",
    "import requests\n",
    "import json\n",
    "from shapely.geometry import box, Polygon, LineString, Point\n",
    "import sys"
   ]
  },
  {
   "cell_type": "markdown",
   "metadata": {},
   "source": [
    "hello"
   ]
  },
  {
   "cell_type": "code",
   "execution_count": 118,
   "metadata": {},
   "outputs": [
    {
     "name": "stdout",
     "output_type": "stream",
     "text": [
      "200\n",
      "{0: {'name': 'Albania', 'polys': [0]}, 1: {'name': 'Austria', 'polys': [1]}, 2: {'name': 'Belgium', 'polys': [2]}, 3: {'name': 'Bulgaria', 'polys': [3]}, 4: {'name': 'Bosnia and Herz.', 'polys': [4]}, 5: {'name': 'Belarus', 'polys': [5]}, 6: {'name': 'Switzerland', 'polys': [6]}, 7: {'name': 'Kosovo', 'polys': [7]}, 8: {'name': 'Czech Rep.', 'polys': [8]}, 9: {'name': 'Germany', 'polys': [9]}, 10: {'name': 'Denmark', 'polys': [10, 11]}, 11: {'name': 'Spain', 'polys': [12]}, 12: {'name': 'Estonia', 'polys': [13]}, 13: {'name': 'Finland', 'polys': [14]}, 14: {'name': 'France', 'polys': [15, 16, 17]}, 15: {'name': 'United Kingdom', 'polys': [18, 19]}, 16: {'name': 'Greece', 'polys': [20, 21]}, 17: {'name': 'Croatia', 'polys': [22]}, 18: {'name': 'Hungary', 'polys': [23]}, 19: {'name': 'Ireland', 'polys': [24]}, 20: {'name': 'Iceland', 'polys': [25]}, 21: {'name': 'Italy', 'polys': [26, 27, 28]}, 22: {'name': 'Lithuania', 'polys': [29]}, 23: {'name': 'Luxembourg', 'polys': [30]}, 24: {'name': 'Latvia', 'polys': [31]}, 25: {'name': 'Moldova', 'polys': [32]}, 26: {'name': 'Macedonia', 'polys': [33]}, 27: {'name': 'Montenegro', 'polys': [34]}, 28: {'name': 'Netherlands', 'polys': [35]}, 29: {'name': 'Norway', 'polys': [36, 37, 38, 39]}, 30: {'name': 'Poland', 'polys': [40]}, 31: {'name': 'Portugal', 'polys': [41]}, 32: {'name': 'Romania', 'polys': [42]}, 33: {'name': 'Russia', 'polys': [43, 44, 45, 46, 47, 48, 49, 50, 51, 52, 53, 54, 55]}, 34: {'name': 'Serbia', 'polys': [56]}, 35: {'name': 'Slovakia', 'polys': [57]}, 36: {'name': 'Slovenia', 'polys': [58]}, 37: {'name': 'Sweden', 'polys': [59]}, 38: {'name': 'Ukraine', 'polys': [60]}}\n"
     ]
    }
   ],
   "source": [
    "# import geopandas\n",
    "# from shapely.geometry import box, Polygon, LineString, Point\n",
    "# import json\n",
    "# import rtree\n",
    "# import pygeos\n",
    "\n",
    "\n",
    "res = requests.get(\"https://cs.msutexas.edu/~griffin/data/country_by_continent/Europe.json\")\n",
    "print(res.status_code)\n",
    "# data = res.text()\n",
    "# data = json.loads(data)\n",
    "\n",
    "data = res.json()\n",
    "\n",
    "polygons = []\n",
    "polyLookup = {}\n",
    "p = 0         \n",
    "c = 0\n",
    "for row in data:\n",
    "  polyLookup[c] = {\n",
    "    \"name\":row['properties']['name'],\n",
    "    \"polys\":[]\n",
    "  }\n",
    "  for poly in row['geometry']['coordinates']:\n",
    "    # print(f\"{row['properties']['name']} len:{len(poly)}\")\n",
    "    if len(poly) == 1:\n",
    "      polygons.append(Polygon(poly[0]))\n",
    "      polyLookup[c][\"polys\"].append(p)\n",
    "      p += 1\n",
    "    else:\n",
    "      for subpoly in poly:\n",
    "        polygons.append(Polygon(subpoly))\n",
    "        polyLookup[c].append(p)\n",
    "        p += 1\n",
    "  c += 1\n",
    "\n",
    "print(polyLookup)\n",
    "\n",
    "s = geopandas.GeoSeries(polygons)"
   ]
  },
  {
   "cell_type": "markdown",
   "metadata": {},
   "source": [
    "hello"
   ]
  },
  {
   "cell_type": "code",
   "execution_count": 119,
   "metadata": {},
   "outputs": [
    {
     "name": "stdout",
     "output_type": "stream",
     "text": [
      "country:14 polygon:17\n",
      "{'type': 'Feature', 'id': 'pv932yw9333.56', 'geometry': {'type': 'MultiPolygon', 'coordinates': [[[[-52.55642473, 2.50470531], [-52.93965715, 2.12485769], [-53.41846514, 2.05338919], [-53.55483924, 2.33489655], [-53.77852068, 2.37670279], [-54.08806251, 2.10555655], [-54.5247542, 2.31184886], [-54.27122962, 2.73874787], [-54.18428402, 3.19417227], [-54.01150387, 3.62256989], [-54.3995422, 4.2126114], [-54.47863298, 4.89675568], [-53.9580446, 5.75654816], [-53.61845293, 5.64652904], [-52.88214128, 5.40985098], [-51.82334286, 4.56576813], [-51.65779741, 4.15623241], [-52.24933753, 3.24109447], [-52.55642473, 2.50470531]]], [[[9.56001631, 42.15249197], [9.22975223, 41.38000682], [8.7757231, 41.58361197], [8.54421268, 42.25651663], [8.74600915, 42.62812185], [9.39000085, 43.00998485], [9.56001631, 42.15249197]]], [[[3.58818444, 50.37899242], [4.28602298, 49.90749665], [4.79922163, 49.98537303], [5.67405195, 49.52948355], [5.89775923, 49.44266714], [6.18632043, 49.4638028], [6.65822961, 49.20195832], [8.0992786, 49.01778352], [7.59367639, 48.33301911], [7.46675907, 47.62058198], [7.19220218, 47.44976553], [6.73657108, 47.54180126], [6.76871382, 47.28770824], [6.03738895, 46.72577871], [6.02260949, 46.27298981], [6.50009972, 46.42967276], [6.84359297, 45.99114655], [6.80235518, 45.70857982], [7.09665246, 45.33309886], [6.74995528, 45.02851797], [7.00756229, 44.25476675], [7.54959639, 44.12790111], [7.43518477, 43.69384492], [6.52924523, 43.12889232], [4.55696252, 43.39965099], [3.1004106, 43.07520051], [2.98599898, 42.47301504], [1.82679325, 42.34338471], [0.70159061, 42.79573436], [0.33804691, 42.57954601], [-1.50277096, 43.03401439], [-1.90135128, 43.42280203], [-1.38422523, 44.02261038], [-1.19379757, 46.01491771], [-2.22572425, 47.0643627], [-2.96327613, 47.57032665], [-4.49155494, 47.95495433], [-4.59234982, 48.68416047], [-3.29581397, 48.90169241], [-1.61651079, 48.64442129], [-1.93349403, 49.77634186], [-0.98946896, 49.3473758], [1.33876102, 50.12717316], [1.63900109, 50.94660635], [2.51357303, 51.14850617], [2.65842207, 50.79684805], [3.12325158, 50.78036327], [3.58818444, 50.37899242]]]]}, 'geometry_name': 'geom', 'properties': {'scalerank': 1, 'featurecla': 'Admin-0 country', 'labelrank': 2, 'sovereignt': 'France', 'sov_a3': 'FR1', 'adm0_dif': 1, 'level': 2, 'type': 'Country', 'admin': 'France', 'adm0_a3': 'FRA', 'geou_dif': 0, 'geounit': 'France', 'gu_a3': 'FRA', 'su_dif': 0, 'subunit': 'France', 'su_a3': 'FRA', 'brk_diff': 0, 'name': 'France', 'name_long': 'France', 'brk_a3': 'FRA', 'brk_name': 'France', 'brk_group': None, 'abbrev': 'Fr.', 'postal': 'F', 'formal_en': 'French Republic', 'formal_fr': None, 'note_adm0': None, 'note_brk': None, 'name_sort': 'France', 'name_alt': None, 'mapcolor7': 7, 'mapcolor8': 5, 'mapcolor9': 9, 'mapcolor13': 11, 'pop_est': 64057792, 'gdp_md_est': 2128000, 'pop_year': -99, 'lastcensus': -99, 'gdp_year': -99, 'economy': '1. Developed region: G7', 'income_grp': '1. High income: OECD', 'wikipedia': -99, 'fips_10': None, 'iso_a2': 'FR', 'iso_a3': 'FRA', 'iso_n3': '250', 'un_a3': '250', 'wb_a2': 'FR', 'wb_a3': 'FRA', 'woe_id': -99, 'adm0_a3_is': 'FRA', 'adm0_a3_us': 'FRA', 'adm0_a3_un': -99, 'adm0_a3_wb': -99, 'continent': 'Europe', 'region_un': 'Europe', 'subregion': 'Western Europe', 'region_wb': 'Europe & Central Asia', 'name_len': 6, 'long_len': 6, 'abbrev_len': 3, 'tiny': -99, 'homepart': 1, 'bbox': [-54.5247542, 2.05338919, 9.56001631, 51.14850617], 'bbox_poly': [[-54.5247542, 51.14850617], [9.56001631, 51.14850617], [9.56001631, 2.05338919], [-54.5247542, 2.05338919], [-54.5247542, 51.14850617]]}}\n"
     ]
    }
   ],
   "source": [
    "# 19.30448612,\n",
    "# 39.62499767,\n",
    "# 21.02004032,\n",
    "# 42.68824738\n",
    "\n",
    "def Feature(type,data,color='#c0c0c0'):        \n",
    "        return {\n",
    "            'type': 'Feature', \n",
    "            'properties':{\n",
    "                \"fill\":color\n",
    "            },\n",
    "            'geometry': {\n",
    "                'type': type, \n",
    "                'coordinates': data\n",
    "            }\n",
    "        }\n",
    "    \n",
    "\n",
    "\n",
    "poland = [21.665039062499996,50.401515322782366]\n",
    "albania = [20.123,40.123]\n",
    "france = [2.28515625,46.76996843356982]\n",
    "\n",
    "data.append(Feature('Point',france))\n",
    "\n",
    "result = s.sindex.query(Point(france[0],france[1]))\n",
    "\n",
    "#print(result)\n",
    "\n",
    "res = []\n",
    "for k,val in polyLookup.items():\n",
    "    for r in result:\n",
    "        if r in val['polys']:\n",
    "            res.append(k)\n",
    "            print(f\"country:{k} polygon:{r}\")\n",
    "\n",
    "for i in res:\n",
    "    print(data[i])\n",
    "    data.append(Feature(data[i]['geometry']['type'],data[i]['geometry']['coordinates'],\"#DB8062\"))\n",
    "\n",
    "geo = {}\n",
    "geo[\"type\"]=\"FeatureCollection\"\n",
    "geo[\"features\"] = data\n",
    "\n",
    "with open(\"point_in_poly.json\",\"w\") as f:\n",
    "    json.dump(geo,f,indent=4)"
   ]
  },
  {
   "cell_type": "markdown",
   "metadata": {},
   "source": [
    "Hello"
   ]
  },
  {
   "cell_type": "code",
   "execution_count": 123,
   "metadata": {},
   "outputs": [
    {
     "name": "stdout",
     "output_type": "stream",
     "text": [
      "POLYGON ((19.66064009 54.42608389, 20.8922445 54.31252493, 22.73109867 54.32753693, 23.24398726 54.22056672, 23.48412764 53.91249767, 23.52753584 53.47012157, 23.80493493 53.08973135, 23.79919885 52.69109935, 23.19949385 52.48697744, 23.50800215 52.02364655, 23.52707075 51.57845409, 24.02998579 50.7054066, 23.9227572 50.42488109, 23.42650842 50.30850576, 22.51845015 49.47677359, 22.7764189 49.02739533, 22.55813765 49.08573802, 21.60780806 49.47010733, 20.88795536 49.32877228, 20.41583947 49.43145336, 19.82502282 49.21712535, 19.32071252 49.571574, 18.90957482 49.43584585, 18.85314416 49.49622976, 18.39291385 49.98862865, 17.64944502 50.0490384, 17.55456709 50.3621459, 16.86876916 50.4739737, 16.71947595 50.21574657, 16.17625329 50.42260733, 16.23862674 50.69773265, 15.49097212 50.78472993, 15.01699588 51.1066741, 14.60709842 51.7451881, 14.68502648 52.08994741, 14.43759973 52.62485017, 14.07452111 52.98126252, 14.35331546 53.24817129, 14.11968631 53.75702912, 14.80290042 54.05070629, 16.363477 54.51315868, 17.62283166 54.85153596, 18.6208586 54.6826057, 18.69625451 54.43871878, 19.66064009 54.42608389))\n",
      "0     False\n",
      "1     False\n",
      "2     False\n",
      "3     False\n",
      "4     False\n",
      "      ...  \n",
      "56    False\n",
      "57     True\n",
      "58    False\n",
      "59    False\n",
      "60     True\n",
      "Length: 61, dtype: bool\n",
      "country:5 {'name': 'Belarus', 'polys': [5]} polygon:5\n",
      "country:8 {'name': 'Czech Rep.', 'polys': [8]} polygon:8\n",
      "country:9 {'name': 'Germany', 'polys': [9]} polygon:9\n",
      "country:22 {'name': 'Lithuania', 'polys': [29]} polygon:29\n",
      "country:33 {'name': 'Russia', 'polys': [43, 44, 45, 46, 47, 48, 49, 50, 51, 52, 53, 54, 55]} polygon:44\n",
      "country:35 {'name': 'Slovakia', 'polys': [57]} polygon:57\n",
      "country:38 {'name': 'Ukraine', 'polys': [60]} polygon:60\n"
     ]
    }
   ],
   "source": [
    "result = s.touches(polygons[40])\n",
    "\n",
    "print(polygons[40])\n",
    "\n",
    "print(result)\n",
    "\n",
    "with open(\"zzz\",\"w\") as f:\n",
    "    for i in range(len(result)):\n",
    "        f.write(f\"{i}:{result[i]}\\n\")\n",
    "\n",
    "res = []\n",
    "for k,val in polyLookup.items():\n",
    "    for r in range(len(result)):\n",
    "        if result[r] and r in val['polys']:\n",
    "            res.append(k)\n",
    "            print(f\"country:{k} {val} polygon:{r}\")\n",
    "\n",
    "for i in range(len(res)):\n",
    "    if result[i]:\n",
    "        data[i]['properties']['fill'] = \"#00ff00\"\n",
    "\n",
    "geo = {}\n",
    "geo[\"type\"]=\"FeatureCollection\"\n",
    "geo[\"features\"] = data\n",
    "\n",
    "with open(\"poly_touches.json\",\"w\") as f:\n",
    "    json.dump(geo,f,indent=4)"
   ]
  },
  {
   "cell_type": "code",
   "execution_count": null,
   "metadata": {},
   "outputs": [
    {
     "name": "stdout",
     "output_type": "stream",
     "text": [
      "0     False\n",
      "1     False\n",
      "2     False\n",
      "3      True\n",
      "4      True\n",
      "      ...  \n",
      "56     True\n",
      "57    False\n",
      "58    False\n",
      "59    False\n",
      "60    False\n",
      "Length: 61, dtype: bool\n",
      "3\n",
      "4\n",
      "7\n",
      "11\n",
      "14\n",
      "14\n",
      "17\n",
      "21\n",
      "27\n",
      "34\n",
      "Albania\n",
      "Austria\n",
      "Belgium\n",
      "Bulgaria\n",
      "Bosnia and Herz.\n",
      "Belarus\n",
      "Switzerland\n",
      "Kosovo\n",
      "Czech Rep.\n",
      "Germany\n"
     ]
    }
   ],
   "source": [
    "\n",
    "line = [\n",
    "          [\n",
    "            -2.373046875,\n",
    "            42.70759350405294\n",
    "          ],\n",
    "          [\n",
    "            29.70703125,\n",
    "            42.70759350405294\n",
    "          ]\n",
    "        ]\n",
    "\n",
    "data.append(Feature(\"LineString\",line,\"#FF0000\"))\n",
    "\n",
    "result = s.intersects(LineString(line))\n",
    "\n",
    "print(result)\n",
    "\n",
    "res = []\n",
    "for i,p in polyLookup.items():\n",
    "    for r in range(len(result)):\n",
    "        if result[r] and r in p:\n",
    "            res.append(i)\n",
    "            print(i)\n",
    "\n",
    "for i in range(len(res)):\n",
    "    if res[i]:\n",
    "        print(data[i]['properties'][\"name\"])\n",
    "        data[i]['properties']['fill'] = \"#5533ff\"\n",
    "\n",
    "geo = {}\n",
    "geo[\"type\"]=\"FeatureCollection\"\n",
    "geo[\"features\"] = data\n",
    "\n",
    "with open(\"line_intersects.json\",\"w\") as f:\n",
    "    json.dump(geo,f,indent=4)\n"
   ]
  }
 ],
 "metadata": {
  "interpreter": {
   "hash": "aee8b7b246df8f9039afb4144a1f6fd8d2ca17a180786b69acc140d282b71a49"
  },
  "kernelspec": {
   "display_name": "Python 3 (ipykernel)",
   "language": "python",
   "name": "python3"
  },
  "language_info": {
   "codemirror_mode": {
    "name": "ipython",
    "version": 3
   },
   "file_extension": ".py",
   "mimetype": "text/x-python",
   "name": "python",
   "nbconvert_exporter": "python",
   "pygments_lexer": "ipython3",
   "version": "3.7.11"
  }
 },
 "nbformat": 4,
 "nbformat_minor": 2
}
