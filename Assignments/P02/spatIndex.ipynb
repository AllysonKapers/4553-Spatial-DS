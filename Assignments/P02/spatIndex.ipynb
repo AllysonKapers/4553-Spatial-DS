{
 "cells": [
  {
   "cell_type": "markdown",
   "metadata": {},
   "source": [
    "### Dependancies"
   ]
  },
  {
   "cell_type": "code",
   "execution_count": 9,
   "metadata": {},
   "outputs": [],
   "source": [
    "import geopandas\n",
    "from shapely.geometry import box, Polygon, LineString, Point"
   ]
  },
  {
   "cell_type": "markdown",
   "metadata": {},
   "source": [
    "### Adding Points\n",
    "\n",
    "#### First Way"
   ]
  },
  {
   "cell_type": "code",
   "execution_count": 12,
   "metadata": {},
   "outputs": [],
   "source": [
    "x = [-128,-127,-129,-124,-127]\n",
    "y = [34,33,36,40,34]\n",
    "\n",
    "\n",
    "s = geopandas.GeoSeries(geopandas.points_from_xy(x, y))"
   ]
  },
  {
   "cell_type": "markdown",
   "metadata": {},
   "source": [
    "### Querying"
   ]
  },
  {
   "cell_type": "code",
   "execution_count": 13,
   "metadata": {},
   "outputs": [
    {
     "data": {
      "text/plain": [
       "array([0, 1, 4])"
      ]
     },
     "execution_count": 13,
     "metadata": {},
     "output_type": "execute_result"
    }
   ],
   "source": [
    "s.sindex.query(box(-128, 33, -127, 34))"
   ]
  },
  {
   "cell_type": "markdown",
   "metadata": {},
   "source": [
    "#### Second Way"
   ]
  },
  {
   "cell_type": "code",
   "execution_count": 16,
   "metadata": {},
   "outputs": [],
   "source": [
    "cities = [Point([-97.44873046875, 35.263561862152095]),\n",
    "    Point([-95.99853515625, 36.1733569352216]),\n",
    "    Point([-101.865234375, 33.5963189611327]),\n",
    "    Point([-101.84326171875, 35.17380831799959]),\n",
    "    Point([-97.14111328125, 33.19273094190692]),\n",
    "    Point([-94.39453125, 35.35321610123823]),\n",
    "    Point([-97.3388671875, 37.666429212090605])\n",
    "]\n",
    "\n",
    "s2 = geopandas.GeoSeries(cities)"
   ]
  },
  {
   "cell_type": "markdown",
   "metadata": {},
   "source": [
    "## Querying"
   ]
  },
  {
   "cell_type": "markdown",
   "metadata": {},
   "source": [
    "#### Bounding Box"
   ]
  },
  {
   "cell_type": "code",
   "execution_count": 17,
   "metadata": {},
   "outputs": [
    {
     "name": "stdout",
     "output_type": "stream",
     "text": [
      "POINT (-101.865234375 33.5963189611327)\n",
      "POINT (-101.84326171875 35.17380831799959)\n"
     ]
    }
   ],
   "source": [
    "# pulled from the geoJson file \"example.geojson\"\n",
    "bbox = [[-103.5791015625, 33.15594830078649], [-99.90966796875, 33.15594830078649],[-99.90966796875, 35.94243575255426], [-103.5791015625, 35.94243575255426],[-103.5791015625, 33.15594830078649]]\n",
    "\n",
    "minX = 99999\n",
    "minY = 99999\n",
    "maxX = -99999\n",
    "maxY = -99999\n",
    "\n",
    "for p in bbox:\n",
    "    if p[0] < minX:\n",
    "        minX = p[0]\n",
    "    if p[1] < minY:\n",
    "        minY = p[1]\n",
    "    if p[0] > maxX:\n",
    "        maxX = p[0]\n",
    "    if p[1] > maxY:\n",
    "        maxY = p[1]\n",
    "\n",
    "result = s2.sindex.query(box(minX, minY, maxX, maxY))\n",
    "\n",
    "for r in result:\n",
    "    print(cities[r])"
   ]
  },
  {
   "cell_type": "markdown",
   "metadata": {},
   "source": [
    "#### Polygon"
   ]
  },
  {
   "cell_type": "code",
   "execution_count": 32,
   "metadata": {},
   "outputs": [
    {
     "name": "stdout",
     "output_type": "stream",
     "text": [
      "POINT (-97.44873046875 35.26356186215209)\n",
      "POINT (-97.3388671875 37.66642921209061)\n",
      "POINT (-97.14111328125 33.19273094190692)\n",
      "POINT (-95.99853515625 36.1733569352216)\n",
      "POINT (-94.39453125 35.35321610123823)\n"
     ]
    }
   ],
   "source": [
    "poly = [[-97.75634765625, 38.66835610151506], [-98.76708984374999, 37.96152331396614], [-99.49218749999999, 36.94989178681327], [-99.7119140625, 36.35052700542763], [-99.47021484375, 35.639441068973944], [-99.25048828124999, 34.03445260967645], [-99.29443359375, 32.82421110161336], [-98.45947265625, 32.175612478499325], [-96.1962890625, 32.0639555946604], [-94.89990234375, 32.62087018318113], [-94.10888671875, 33.742612777346885], [-94.02099609375, 34.470335121217474], [-93.09814453125, 35.496456056584165], [-93.955078125, 36.84446074079564], [-95.03173828125, 37.96152331396614], [-96.3720703125, 38.61687046392973], [-97.75634765625, 38.66835610151506]]\n",
    "\n",
    "result = s2.sindex.query(Polygon(poly))\n",
    "\n",
    "for r in result:\n",
    "    print(cities[r])"
   ]
  },
  {
   "cell_type": "code",
   "execution_count": 33,
   "metadata": {},
   "outputs": [
    {
     "data": {
      "text/plain": [
       "0     9.071092\n",
       "1     8.566956\n",
       "2    12.337251\n",
       "3    12.866490\n",
       "4     7.765092\n",
       "5     6.889759\n",
       "6    10.572477\n",
       "dtype: float64"
      ]
     },
     "execution_count": 33,
     "metadata": {},
     "output_type": "execute_result"
    }
   ],
   "source": [
    "point = Point( -90.06591796875,29.99300228455108)\n",
    "s2.distance(point)"
   ]
  },
  {
   "cell_type": "code",
   "execution_count": 39,
   "metadata": {},
   "outputs": [
    {
     "name": "stdout",
     "output_type": "stream",
     "text": [
      "POINT (-94.39453125 35.35321610123823)\n"
     ]
    }
   ],
   "source": [
    "# grab the result in a list\n",
    "result = s2.distance(point)\n",
    "\n",
    "# find the min index\n",
    "min = 99999\n",
    "index = -1\n",
    "for i in range(len(result)):\n",
    "    if result[i] < min:\n",
    "        min = result[i]\n",
    "        index = i\n",
    "\n",
    "# print the closest city\n",
    "print(cities[index])\n"
   ]
  },
  {
   "cell_type": "code",
   "execution_count": 41,
   "metadata": {},
   "outputs": [
    {
     "name": "stdout",
     "output_type": "stream",
     "text": [
      "POINT (-97.44873046875 35.26356186215209) => POINT (-95.99853515625 36.1733569352216)\n",
      "POINT (-95.99853515625 36.1733569352216) => POINT (-97.44873046875 35.26356186215209)\n",
      "POINT (-101.865234375 33.5963189611327) => POINT (-101.84326171875 35.17380831799959)\n",
      "POINT (-101.84326171875 35.17380831799959) => POINT (-101.865234375 33.5963189611327)\n",
      "POINT (-97.14111328125 33.19273094190692) => POINT (-97.44873046875 35.26356186215209)\n",
      "POINT (-94.39453125 35.35321610123823) => POINT (-95.99853515625 36.1733569352216)\n",
      "POINT (-97.3388671875 37.66642921209061) => POINT (-95.99853515625 36.1733569352216)\n"
     ]
    }
   ],
   "source": [
    "for point in cities:\n",
    "    result = s2.distance(point)\n",
    "\n",
    "    # find the min index\n",
    "    min = 99999\n",
    "    index = -1\n",
    "    for i in range(len(result)):\n",
    "        if result[i] < min and result[i] > 0:\n",
    "            min = result[i]\n",
    "            index = i\n",
    "\n",
    "    # print the closest city\n",
    "    print(f\"{point} => {cities[index]}\")"
   ]
  }
 ],
 "metadata": {
  "interpreter": {
   "hash": "eb9d83ef384fe09d024599e95aea39d8885ccb7cf8fc4ca63af10c3fafbde0c3"
  },
  "kernelspec": {
   "display_name": "Python 3.8.5 ('spatial')",
   "language": "python",
   "name": "python3"
  },
  "language_info": {
   "codemirror_mode": {
    "name": "ipython",
    "version": 3
   },
   "file_extension": ".py",
   "mimetype": "text/x-python",
   "name": "python",
   "nbconvert_exporter": "python",
   "pygments_lexer": "ipython3",
   "version": "3.9.2"
  },
  "orig_nbformat": 4
 },
 "nbformat": 4,
 "nbformat_minor": 2
}
