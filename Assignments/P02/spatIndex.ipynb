{
 "cells": [
  {
   "cell_type": "markdown",
   "metadata": {},
   "source": [
    "## GeoPandas Spatial Index\n",
    "Basically an Rtree \n",
    "\n"
   ]
  },
  {
   "cell_type": "markdown",
   "metadata": {},
   "source": [
    "#### Dependancies"
   ]
  },
  {
   "cell_type": "code",
   "execution_count": 1,
   "metadata": {},
   "outputs": [],
   "source": [
    "import geopandas\n",
    "from shapely.geometry import box, Polygon, LineString, Point"
   ]
  },
  {
   "cell_type": "markdown",
   "metadata": {},
   "source": [
    "### Adding Points\n",
    "\n",
    "Adding points to the spatial index can be done in multiple ways using different spatial objects. We will be adding points in this assignment. I'll show you two different ways.\n",
    "\n",
    "#### First Way\n",
    "\n",
    "We use the parallel array approach with x values in one list and y values in another:"
   ]
  },
  {
   "cell_type": "code",
   "execution_count": 7,
   "metadata": {},
   "outputs": [],
   "source": [
    "x = [-128,-127,-129,-124,-127]\n",
    "y = [34,33,36,40,34]\n",
    "\n",
    "gs1 = geopandas.GeoSeries(geopandas.points_from_xy(x, y))"
   ]
  },
  {
   "cell_type": "markdown",
   "metadata": {},
   "source": [
    "#### Second Way\n",
    "\n",
    "We use a geopandas data type `Point` and simply insert a list of them. "
   ]
  },
  {
   "cell_type": "code",
   "execution_count": 35,
   "metadata": {},
   "outputs": [],
   "source": [
    "import json\n",
    "f = open(\"./data_files/example.geojson\")\n",
    "data = json.load(f)\n",
    "\n",
    "points = []\n",
    "for feature in data[\"features\"]:\n",
    "    if feature[\"geometry\"][\"type\"] == \"Point\":\n",
    "        points.append(feature[\"geometry\"][\"coordinates\"])\n",
    "\n",
    "cities = []\n",
    "for point in points:\n",
    "    cities.append(Point(point))\n",
    "\n",
    "gs2 = geopandas.GeoSeries(cities)"
   ]
  },
  {
   "cell_type": "markdown",
   "metadata": {},
   "source": [
    "### Querying\n",
    "\n",
    "To query the first structure we can create a bounding box of this form:\n",
    " \n",
    "`box(minx,miny,maxx,maxy)`"
   ]
  },
  {
   "cell_type": "code",
   "execution_count": 23,
   "metadata": {},
   "outputs": [
    {
     "data": {
      "text/plain": [
       "array([0, 1, 4])"
      ]
     },
     "execution_count": 23,
     "metadata": {},
     "output_type": "execute_result"
    }
   ],
   "source": [
    "gs1.sindex.query(box(-128, 33, -127, 34))"
   ]
  },
  {
   "cell_type": "markdown",
   "metadata": {},
   "source": [
    "#### GeoJson Rectangle to Bbox\n",
    "\n",
    "In this example, I pulled a polygon from the `example.geojson` file, and wrote a snippet to turn it into a bounding box. This polygon represents a rectangle, but it still contains 5 points because of geojsons method of representing a rectangle. \n",
    "\n",
    "<img src=\"geojson_example2.png\" width=\"200\">"
   ]
  },
  {
   "cell_type": "code",
   "execution_count": 36,
   "metadata": {},
   "outputs": [
    {
     "name": "stdout",
     "output_type": "stream",
     "text": [
      "bbox:\n",
      "[[-103.5791015625, 33.15594830078649], [-99.90966796875, 33.15594830078649], [-99.90966796875, 35.94243575255426], [-103.5791015625, 35.94243575255426], [-103.5791015625, 33.15594830078649]]\n",
      "result:\n",
      "[2 3]\n",
      "City Results:\n",
      "POINT (-101.865234375 33.5963189611327)\n",
      "POINT (-101.84326171875 35.17380831799959)\n"
     ]
    }
   ],
   "source": [
    "bbox = []\n",
    "for feature in data[\"features\"]:\n",
    "    if \"name\" in feature[\"properties\"] and feature[\"properties\"][\"name\"]==\"rectangleExample\":\n",
    "        for ring in feature[\"geometry\"][\"coordinates\"]:\n",
    "            for point in ring:\n",
    "                bbox.append(point)\n",
    "print(\"bbox:\")\n",
    "print(bbox)\n",
    "\n",
    "minX = 99999\n",
    "minY = 99999\n",
    "maxX = -99999\n",
    "maxY = -99999\n",
    "\n",
    "for p in bbox:\n",
    "    if p[0] < minX:\n",
    "        minX = p[0]\n",
    "    if p[1] < minY:\n",
    "        minY = p[1]\n",
    "    if p[0] > maxX:\n",
    "        maxX = p[0]\n",
    "    if p[1] > maxY:\n",
    "        maxY = p[1]\n",
    "\n",
    "result = gs2.sindex.query(box(minX, minY, maxX, maxY))\n",
    "\n",
    "print(\"result:\")\n",
    "print(result)\n",
    "\n",
    "print(\"City Results:\")\n",
    "for r in result:\n",
    "    print(cities[r])"
   ]
  },
  {
   "cell_type": "markdown",
   "metadata": {},
   "source": [
    "#### GeoJson Polygon to GeoPandas Polygon\n",
    "\n",
    "This is pretty much a 1 to 1 relationship, no conversion necessary. It's a list of points. \n",
    "\n",
    "If we just used the polygon from the geojson file (the one representing the rectangle), the result would be the same.\n",
    "\n",
    "This is the same \"polygon\" as the example from above."
   ]
  },
  {
   "cell_type": "code",
   "execution_count": 38,
   "metadata": {},
   "outputs": [
    {
     "name": "stdout",
     "output_type": "stream",
     "text": [
      "POINT (-101.865234375 33.5963189611327)\n",
      "POINT (-101.84326171875 35.17380831799959)\n"
     ]
    }
   ],
   "source": [
    "poly = []\n",
    "for feature in data[\"features\"]:\n",
    "    if \"name\" in feature[\"properties\"] and feature[\"properties\"][\"name\"]==\"rectangleExample\":\n",
    "        poly = feature[\"geometry\"][\"coordinates\"]\n",
    "\n",
    "# Remember a polygon is a \"list of linestrings\" so we are pulling the linestring out of the polygon object\n",
    "poly = poly.pop()\n",
    "\n",
    "result = gs2.sindex.query(Polygon(poly))\n",
    "\n",
    "for r in result:\n",
    "    print(cities[r])"
   ]
  },
  {
   "cell_type": "markdown",
   "metadata": {},
   "source": [
    "The following polygon is also from the `example.geojson` file shown in the image below:\n",
    "\n",
    "<img src=\"geojson_example.png\" width=\"200\">"
   ]
  },
  {
   "cell_type": "code",
   "execution_count": 42,
   "metadata": {},
   "outputs": [
    {
     "name": "stdout",
     "output_type": "stream",
     "text": [
      "POINT (-97.44873046875 35.26356186215209)\n",
      "POINT (-97.3388671875 37.66642921209061)\n",
      "POINT (-97.14111328125 33.19273094190692)\n",
      "POINT (-95.99853515625 36.1733569352216)\n",
      "POINT (-94.39453125 35.35321610123823)\n"
     ]
    }
   ],
   "source": [
    "poly = []\n",
    "for feature in data[\"features\"]:\n",
    "    if \"name\" in feature[\"properties\"] and feature[\"properties\"][\"name\"]==\"polygonExample\":\n",
    "        for ring in feature[\"geometry\"][\"coordinates\"]:\n",
    "            poly = ring\n",
    "\n",
    "result = gs2.sindex.query(Polygon(poly))\n",
    "\n",
    "for r in result:\n",
    "    print(cities[r])"
   ]
  },
  {
   "cell_type": "markdown",
   "metadata": {},
   "source": [
    "### Getting Distance Between Points\n",
    "\n",
    "The distance function returns the distance from (in this case) the point and every other spatial feature in the Rtree (geospatial index)."
   ]
  },
  {
   "cell_type": "code",
   "execution_count": 33,
   "metadata": {},
   "outputs": [
    {
     "data": {
      "text/plain": [
       "0     9.071092\n",
       "1     8.566956\n",
       "2    12.337251\n",
       "3    12.866490\n",
       "4     7.765092\n",
       "5     6.889759\n",
       "6    10.572477\n",
       "dtype: float64"
      ]
     },
     "execution_count": 33,
     "metadata": {},
     "output_type": "execute_result"
    }
   ],
   "source": [
    "point = Point( -90.06591796875,29.99300228455108)\n",
    "gs2.distance(point)"
   ]
  },
  {
   "cell_type": "markdown",
   "metadata": {},
   "source": [
    "The above output shows the distance from the point parameter and every other item in the Rtree. Next we perform the same query, and find the single closest item to the point sent into the function (in this case New Orleans)"
   ]
  },
  {
   "cell_type": "code",
   "execution_count": 39,
   "metadata": {},
   "outputs": [
    {
     "name": "stdout",
     "output_type": "stream",
     "text": [
      "POINT (-94.39453125 35.35321610123823)\n"
     ]
    }
   ],
   "source": [
    "# grab the result in a list\n",
    "result = gs2.distance(point)\n",
    "\n",
    "# find the min index\n",
    "min = 99999\n",
    "index = -1\n",
    "for i in range(len(result)):\n",
    "    if result[i] < min:\n",
    "        min = result[i]\n",
    "        index = i\n",
    "\n",
    "# print the closest city\n",
    "print(cities[index])\n"
   ]
  },
  {
   "cell_type": "markdown",
   "metadata": {},
   "source": [
    "For each point in the geoJson file (a city coordinate) find its closest neighbor. "
   ]
  },
  {
   "cell_type": "code",
   "execution_count": 43,
   "metadata": {},
   "outputs": [
    {
     "name": "stdout",
     "output_type": "stream",
     "text": [
      "City: POINT (-97.44873046875 35.26356186215209) => ClosesNeighbor: POINT (-95.99853515625 36.1733569352216)\n",
      "City: POINT (-95.99853515625 36.1733569352216) => ClosesNeighbor: POINT (-97.44873046875 35.26356186215209)\n",
      "City: POINT (-101.865234375 33.5963189611327) => ClosesNeighbor: POINT (-101.84326171875 35.17380831799959)\n",
      "City: POINT (-101.84326171875 35.17380831799959) => ClosesNeighbor: POINT (-101.865234375 33.5963189611327)\n",
      "City: POINT (-97.14111328125 33.19273094190692) => ClosesNeighbor: POINT (-97.44873046875 35.26356186215209)\n",
      "City: POINT (-94.39453125 35.35321610123823) => ClosesNeighbor: POINT (-95.99853515625 36.1733569352216)\n",
      "City: POINT (-97.3388671875 37.66642921209061) => ClosesNeighbor: POINT (-95.99853515625 36.1733569352216)\n"
     ]
    }
   ],
   "source": [
    "for point in cities:\n",
    "    result = gs2.distance(point)\n",
    "\n",
    "    # find the min index\n",
    "    min = 99999\n",
    "    index = -1\n",
    "    for i in range(len(result)):\n",
    "        if result[i] < min and result[i] > 0:\n",
    "            min = result[i]\n",
    "            index = i\n",
    "\n",
    "    # print the closest city\n",
    "    print(f\"City: {point} => ClosesNeighbor: {cities[index]}\")"
   ]
  }
 ],
 "metadata": {
  "interpreter": {
   "hash": "eb9d83ef384fe09d024599e95aea39d8885ccb7cf8fc4ca63af10c3fafbde0c3"
  },
  "kernelspec": {
   "display_name": "Python 3.8.5 ('spatial')",
   "language": "python",
   "name": "python3"
  },
  "language_info": {
   "codemirror_mode": {
    "name": "ipython",
    "version": 3
   },
   "file_extension": ".py",
   "mimetype": "text/x-python",
   "name": "python",
   "nbconvert_exporter": "python",
   "pygments_lexer": "ipython3",
   "version": "3.9.2"
  },
  "orig_nbformat": 4
 },
 "nbformat": 4,
 "nbformat_minor": 2
}
